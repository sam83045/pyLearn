{
  "nbformat": 4,
  "nbformat_minor": 0,
  "metadata": {
    "colab": {
      "provenance": [],
      "include_colab_link": true
    },
    "kernelspec": {
      "name": "python3",
      "display_name": "Python 3"
    },
    "language_info": {
      "name": "python"
    }
  },
  "cells": [
    {
      "cell_type": "markdown",
      "metadata": {
        "id": "view-in-github",
        "colab_type": "text"
      },
      "source": [
        "<a href=\"https://colab.research.google.com/github/sam83045/pyLearn/blob/main/function_1.ipynb\" target=\"_parent\"><img src=\"https://colab.research.google.com/assets/colab-badge.svg\" alt=\"Open In Colab\"/></a>"
      ]
    },
    {
      "cell_type": "markdown",
      "source": [
        "# **Introduction to colab**"
      ],
      "metadata": {
        "id": "ludOv2CrnMTZ"
      }
    },
    {
      "cell_type": "code",
      "source": [
        "a = 'python'"
      ],
      "metadata": {
        "id": "tBNw-zgbpgNW"
      },
      "execution_count": null,
      "outputs": []
    },
    {
      "cell_type": "code",
      "execution_count": null,
      "metadata": {
        "colab": {
          "base_uri": "https://localhost:8080/"
        },
        "id": "YAXLZeoWnAr5",
        "outputId": "963db253-225b-4d96-bc59-417164e56b14"
      },
      "outputs": [
        {
          "output_type": "stream",
          "name": "stdout",
          "text": [
            "hello good evening\n"
          ]
        }
      ],
      "source": [
        "# cell : to execute the cell press shift+enter\n",
        "print('hello good evening')"
      ]
    },
    {
      "cell_type": "code",
      "source": [
        "for i in range(1,11):\n",
        "  print(i)"
      ],
      "metadata": {
        "colab": {
          "base_uri": "https://localhost:8080/"
        },
        "id": "75d_594lnhEG",
        "outputId": "3de9f9ed-2a06-4017-a3e1-37c0fbb92f18"
      },
      "execution_count": null,
      "outputs": [
        {
          "output_type": "stream",
          "name": "stdout",
          "text": [
            "1\n",
            "2\n",
            "3\n",
            "4\n",
            "5\n",
            "6\n",
            "7\n",
            "8\n",
            "9\n",
            "10\n"
          ]
        }
      ]
    },
    {
      "cell_type": "code",
      "source": [
        "for i in range(-10,0):\n",
        "  print(i)"
      ],
      "metadata": {
        "colab": {
          "base_uri": "https://localhost:8080/"
        },
        "id": "qvga0m6FoHbD",
        "outputId": "66ca515e-cc99-491e-e42e-9b9859c21e9d"
      },
      "execution_count": null,
      "outputs": [
        {
          "output_type": "stream",
          "name": "stdout",
          "text": [
            "-10\n",
            "-9\n",
            "-8\n",
            "-7\n",
            "-6\n",
            "-5\n",
            "-4\n",
            "-3\n",
            "-2\n",
            "-1\n"
          ]
        }
      ]
    },
    {
      "cell_type": "code",
      "source": [
        "a.upper()"
      ],
      "metadata": {
        "colab": {
          "base_uri": "https://localhost:8080/",
          "height": 36
        },
        "id": "NIZQVV1Fowkl",
        "outputId": "20226520-a43f-4d88-99a7-890dbd4259f5"
      },
      "execution_count": null,
      "outputs": [
        {
          "output_type": "execute_result",
          "data": {
            "text/plain": [
              "'PYTHON'"
            ],
            "application/vnd.google.colaboratory.intrinsic+json": {
              "type": "string"
            }
          },
          "metadata": {},
          "execution_count": 8
        }
      ]
    },
    {
      "cell_type": "markdown",
      "source": [
        "# Function: A Block of code which we write ones and calls it multiple times\n",
        "\n",
        "While creating function\n",
        "- Declaration of a function\n",
        "- Calling of a function"
      ],
      "metadata": {
        "id": "cA5Z2n-0puIW"
      }
    },
    {
      "cell_type": "code",
      "source": [
        "# declaration==> syntax\n",
        "# def function_name():\n",
        "    #process\n",
        "\n",
        "def sample():\n",
        "  print('Process initiated')"
      ],
      "metadata": {
        "id": "AzsqUS8HpmCe"
      },
      "execution_count": null,
      "outputs": []
    },
    {
      "cell_type": "code",
      "source": [
        "# calling of a function: bringing a function into a memory\n",
        "# calling means execution of a function\n",
        "sample()"
      ],
      "metadata": {
        "colab": {
          "base_uri": "https://localhost:8080/"
        },
        "id": "K8NDW_9mqNnF",
        "outputId": "850dffff-8e66-4475-ffd9-9c9eae75d3fe"
      },
      "execution_count": null,
      "outputs": [
        {
          "output_type": "stream",
          "name": "stdout",
          "text": [
            "Process initiated\n"
          ]
        }
      ]
    },
    {
      "cell_type": "code",
      "source": [
        "sample()\n",
        "sample()"
      ],
      "metadata": {
        "colab": {
          "base_uri": "https://localhost:8080/"
        },
        "id": "TvFinMvlqbns",
        "outputId": "c65dde6f-4b29-46e2-ec8c-c81068e20cc2"
      },
      "execution_count": null,
      "outputs": [
        {
          "output_type": "stream",
          "name": "stdout",
          "text": [
            "Process initiated\n",
            "Process initiated\n"
          ]
        }
      ]
    },
    {
      "cell_type": "code",
      "source": [
        "# advantage of a function is Code reusability\n",
        "# function can also contain arguments\n",
        "# ex. def add(num1,num2)\n",
        "\n",
        "def add(num1,num2):\n",
        "  print('Addition is:',num1+num2)\n",
        "\n",
        "add(20,40)"
      ],
      "metadata": {
        "colab": {
          "base_uri": "https://localhost:8080/"
        },
        "id": "GYvAX5Ddqd87",
        "outputId": "d4a07b6d-fdd0-4c4a-be2e-1b5715f3b33f"
      },
      "execution_count": null,
      "outputs": [
        {
          "output_type": "stream",
          "name": "stdout",
          "text": [
            "Addition is: 60\n"
          ]
        }
      ]
    },
    {
      "cell_type": "code",
      "source": [
        "add(89,77)"
      ],
      "metadata": {
        "colab": {
          "base_uri": "https://localhost:8080/"
        },
        "id": "2-fmDTIXrcN_",
        "outputId": "ac8d6ce8-383c-4980-ab0e-62de514c0e76"
      },
      "execution_count": null,
      "outputs": [
        {
          "output_type": "stream",
          "name": "stdout",
          "text": [
            "Addition is: 166\n"
          ]
        }
      ]
    },
    {
      "cell_type": "markdown",
      "source": [
        "# Types of arguments:\n",
        "- Positional\n",
        "- Keyword\n",
        "- Default\n",
        "- Variable length"
      ],
      "metadata": {
        "id": "1ziheYzVr6FE"
      }
    },
    {
      "cell_type": "code",
      "source": [
        "# Positional args: means order of an element/object matters in this case\n",
        "def display(name,age,sal):\n",
        "  print('Name is:',name)\n",
        "  print('Age is:',age)\n",
        "  print('Salary is:',sal)\n",
        "\n",
        "display('Kiran',22,56000)"
      ],
      "metadata": {
        "colab": {
          "base_uri": "https://localhost:8080/"
        },
        "id": "q3VZN7_Kr5ta",
        "outputId": "c485c863-42ca-453e-fe4d-94e5d448a440"
      },
      "execution_count": null,
      "outputs": [
        {
          "output_type": "stream",
          "name": "stdout",
          "text": [
            "Name is: Kiran\n",
            "Age is: 22\n",
            "Salary is: 56000\n"
          ]
        }
      ]
    },
    {
      "cell_type": "code",
      "source": [
        "# if we change sequence\n",
        "display(23000,45,'Amy')"
      ],
      "metadata": {
        "colab": {
          "base_uri": "https://localhost:8080/"
        },
        "id": "JHhDWWzsrgGz",
        "outputId": "ab675e0e-0d53-4026-d826-db265fc73655"
      },
      "execution_count": null,
      "outputs": [
        {
          "output_type": "stream",
          "name": "stdout",
          "text": [
            "Name is: 23000\n",
            "Age is: 45\n",
            "Salary is: Amy\n"
          ]
        }
      ]
    },
    {
      "cell_type": "code",
      "source": [
        "# we can solve above problem using Keyword args\n",
        "display(sal=23000,age=45,name='Amy')"
      ],
      "metadata": {
        "colab": {
          "base_uri": "https://localhost:8080/"
        },
        "id": "AEgxYgu6s28L",
        "outputId": "29e595be-1c4a-470a-fcd5-ef5d987aead3"
      },
      "execution_count": null,
      "outputs": [
        {
          "output_type": "stream",
          "name": "stdout",
          "text": [
            "Name is: Amy\n",
            "Age is: 45\n",
            "Salary is: 23000\n"
          ]
        }
      ]
    },
    {
      "cell_type": "code",
      "source": [
        "display('Shoaib',32)"
      ],
      "metadata": {
        "colab": {
          "base_uri": "https://localhost:8080/",
          "height": 175
        },
        "id": "TAR5bw6ktMSU",
        "outputId": "2210f78f-d01e-476f-9a44-23a162e6aa78"
      },
      "execution_count": null,
      "outputs": [
        {
          "output_type": "error",
          "ename": "TypeError",
          "evalue": "ignored",
          "traceback": [
            "\u001b[0;31m---------------------------------------------------------------------------\u001b[0m",
            "\u001b[0;31mTypeError\u001b[0m                                 Traceback (most recent call last)",
            "\u001b[0;32m<ipython-input-18-10b403a7e256>\u001b[0m in \u001b[0;36m<cell line: 1>\u001b[0;34m()\u001b[0m\n\u001b[0;32m----> 1\u001b[0;31m \u001b[0mdisplay\u001b[0m\u001b[0;34m(\u001b[0m\u001b[0;34m'Shoaib'\u001b[0m\u001b[0;34m,\u001b[0m\u001b[0;36m32\u001b[0m\u001b[0;34m)\u001b[0m\u001b[0;34m\u001b[0m\u001b[0;34m\u001b[0m\u001b[0m\n\u001b[0m",
            "\u001b[0;31mTypeError\u001b[0m: display() missing 1 required positional argument: 'sal'"
          ]
        }
      ]
    },
    {
      "cell_type": "code",
      "source": [
        "# Rule:\n",
        "# -  in declaration if we have 3 args then we must have to pass 3 values (no less no more accepted)\n",
        "#display('AA')\n",
        "display('AD',23,56000,'Pune')"
      ],
      "metadata": {
        "colab": {
          "base_uri": "https://localhost:8080/",
          "height": 210
        },
        "id": "Hy1ZjcxltW7U",
        "outputId": "900254da-2a3e-4916-935d-20d139e19af6"
      },
      "execution_count": null,
      "outputs": [
        {
          "output_type": "error",
          "ename": "TypeError",
          "evalue": "ignored",
          "traceback": [
            "\u001b[0;31m---------------------------------------------------------------------------\u001b[0m",
            "\u001b[0;31mTypeError\u001b[0m                                 Traceback (most recent call last)",
            "\u001b[0;32m<ipython-input-20-bbeac203c761>\u001b[0m in \u001b[0;36m<cell line: 3>\u001b[0;34m()\u001b[0m\n\u001b[1;32m      1\u001b[0m \u001b[0;31m# Rules:\u001b[0m\u001b[0;34m\u001b[0m\u001b[0;34m\u001b[0m\u001b[0m\n\u001b[1;32m      2\u001b[0m \u001b[0;31m# -  in declaration if we have 3 args then we must have to pass 3 values (no less no more accepted)\u001b[0m\u001b[0;34m\u001b[0m\u001b[0;34m\u001b[0m\u001b[0m\n\u001b[0;32m----> 3\u001b[0;31m \u001b[0mdisplay\u001b[0m\u001b[0;34m(\u001b[0m\u001b[0;34m'AA'\u001b[0m\u001b[0;34m)\u001b[0m\u001b[0;34m\u001b[0m\u001b[0;34m\u001b[0m\u001b[0m\n\u001b[0m",
            "\u001b[0;31mTypeError\u001b[0m: display() missing 2 required positional arguments: 'age' and 'sal'"
          ]
        }
      ]
    },
    {
      "cell_type": "code",
      "source": [
        "def add(sal1,sal2):\n",
        "  #print(sal1+sal2)\n",
        "  return sal1+sal2\n",
        "add(16000,40000)"
      ],
      "metadata": {
        "colab": {
          "base_uri": "https://localhost:8080/"
        },
        "id": "VEhjw3yqtzt-",
        "outputId": "011ee8b6-9734-45fb-b4dc-f3d73384cb34"
      },
      "execution_count": null,
      "outputs": [
        {
          "output_type": "execute_result",
          "data": {
            "text/plain": [
              "56000"
            ]
          },
          "metadata": {},
          "execution_count": 23
        }
      ]
    },
    {
      "cell_type": "code",
      "source": [
        "display('Ashish',22,add(1000,2000))"
      ],
      "metadata": {
        "colab": {
          "base_uri": "https://localhost:8080/"
        },
        "id": "_TSvEia-umlF",
        "outputId": "8afd50a5-54c7-4761-b095-e06283712f76"
      },
      "execution_count": null,
      "outputs": [
        {
          "output_type": "stream",
          "name": "stdout",
          "text": [
            "Name is: Ashish\n",
            "Age is: 22\n",
            "Salary is: 3000\n"
          ]
        }
      ]
    },
    {
      "cell_type": "code",
      "source": [
        "# Default args: in declaration we can set some args with default value\n",
        "def account(name='Guest',branch='Katraj',bank='SBI'):\n",
        "  print(name,bank,branch)\n",
        "\n",
        "account()"
      ],
      "metadata": {
        "colab": {
          "base_uri": "https://localhost:8080/"
        },
        "id": "jjulVihRuwvD",
        "outputId": "c3cf3adb-6e66-4b0a-cffd-934615274848"
      },
      "execution_count": null,
      "outputs": [
        {
          "output_type": "stream",
          "name": "stdout",
          "text": [
            "Guest SBI Katraj\n"
          ]
        }
      ]
    },
    {
      "cell_type": "code",
      "source": [
        "# instead of default i want new values\n",
        "account('Viraj','Swargate','BOI')"
      ],
      "metadata": {
        "colab": {
          "base_uri": "https://localhost:8080/"
        },
        "id": "raVhVDyuvpi6",
        "outputId": "7ca198e5-c617-47ea-8f5a-4e859ea163b8"
      },
      "execution_count": null,
      "outputs": [
        {
          "output_type": "stream",
          "name": "stdout",
          "text": [
            "Viraj BOI Swargate\n"
          ]
        }
      ]
    },
    {
      "cell_type": "code",
      "source": [
        "# can we supply only name\n",
        "account('Viraj')"
      ],
      "metadata": {
        "colab": {
          "base_uri": "https://localhost:8080/"
        },
        "id": "wnjuugjkvwn0",
        "outputId": "405c221e-d983-49b7-ae2b-0330f71acb15"
      },
      "execution_count": null,
      "outputs": [
        {
          "output_type": "stream",
          "name": "stdout",
          "text": [
            "Viraj SBI Katraj\n"
          ]
        }
      ]
    },
    {
      "cell_type": "code",
      "source": [
        "# Variable length argument:\n",
        "# When count of number of args we are going to supply in a functionis not fixed one\n",
        "# then use variable length args\n",
        "#- It contains 2 types\n",
        "  # Var. len. positional args (*args)\n",
        "  # Var. len. Keyword args (**kwargs)\n",
        "\n",
        "def info(*args):\n",
        "  print('Details',args)\n",
        "\n",
        "info()\n",
        "info('A',23,45000,'Pune',411001)\n",
        "info('B','Sangli')"
      ],
      "metadata": {
        "colab": {
          "base_uri": "https://localhost:8080/"
        },
        "id": "t7Nf-6Nlv5vT",
        "outputId": "238b798d-e043-44b0-c63e-60dba2d470c9"
      },
      "execution_count": null,
      "outputs": [
        {
          "output_type": "stream",
          "name": "stdout",
          "text": [
            "Details ()\n",
            "Details ('A', 23, 45000, 'Pune', 411001)\n",
            "Details ('B', 'Sangli')\n"
          ]
        }
      ]
    },
    {
      "cell_type": "code",
      "source": [
        "def info(**kwargs):\n",
        "  print('Details:',kwargs)\n",
        "\n",
        "info()\n",
        "info(name='Akash',place='Mumbai',pin = 3434)"
      ],
      "metadata": {
        "colab": {
          "base_uri": "https://localhost:8080/"
        },
        "id": "ogy34fhdxnF7",
        "outputId": "f88bd9c3-3f41-4a1c-fd23-45f58e18354a"
      },
      "execution_count": null,
      "outputs": [
        {
          "output_type": "stream",
          "name": "stdout",
          "text": [
            "Details: {}\n",
            "Details: {'name': 'Akash', 'place': 'Mumbai', 'pin': 3434}\n"
          ]
        }
      ]
    },
    {
      "cell_type": "code",
      "source": [
        "# Q. *args vs **kwargs"
      ],
      "metadata": {
        "id": "kJhcY3OhyOTr"
      },
      "execution_count": null,
      "outputs": []
    },
    {
      "cell_type": "code",
      "source": [],
      "metadata": {
        "id": "IaE7WcVIy9Pv"
      },
      "execution_count": null,
      "outputs": []
    }
  ]
}