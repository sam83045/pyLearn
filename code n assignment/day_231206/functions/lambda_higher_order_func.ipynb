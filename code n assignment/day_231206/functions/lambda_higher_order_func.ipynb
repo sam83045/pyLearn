{
  "nbformat": 4,
  "nbformat_minor": 0,
  "metadata": {
    "colab": {
      "provenance": [],
      "include_colab_link": true
    },
    "kernelspec": {
      "name": "python3",
      "display_name": "Python 3"
    },
    "language_info": {
      "name": "python"
    }
  },
  "cells": [
    {
      "cell_type": "markdown",
      "metadata": {
        "id": "view-in-github",
        "colab_type": "text"
      },
      "source": [
        "<a href=\"https://colab.research.google.com/github/sam83045/pyLearn/blob/main/code%20n%20assignment/day_231206/functions/lambda_higher_order_func.ipynb\" target=\"_parent\"><img src=\"https://colab.research.google.com/assets/colab-badge.svg\" alt=\"Open In Colab\"/></a>"
      ]
    },
    {
      "cell_type": "markdown",
      "source": [
        "# **Functions**"
      ],
      "metadata": {
        "id": "l-oVqq56vrJy"
      }
    },
    {
      "cell_type": "code",
      "execution_count": null,
      "metadata": {
        "colab": {
          "base_uri": "https://localhost:8080/"
        },
        "id": "OOYJPflOvmiK",
        "outputId": "69b15054-ef61-4ce9-89d7-4dd5d43c9c37"
      },
      "outputs": [
        {
          "output_type": "stream",
          "name": "stdout",
          "text": [
            "300\n",
            "None\n"
          ]
        }
      ],
      "source": [
        "# function with return\n",
        "# if we want to bring something from inside a function to outside function\n",
        "# then use return\n",
        "def add():\n",
        "  print(100+200)\n",
        "print(add())"
      ]
    },
    {
      "cell_type": "code",
      "source": [
        "# now add return keyword\n",
        "def add():\n",
        "  return 100+200\n",
        "print(add())"
      ],
      "metadata": {
        "colab": {
          "base_uri": "https://localhost:8080/"
        },
        "id": "E_3w87v3wMnU",
        "outputId": "372c6625-b006-452f-e4e5-a079ef07f9ea"
      },
      "execution_count": null,
      "outputs": [
        {
          "output_type": "stream",
          "name": "stdout",
          "text": [
            "300\n"
          ]
        }
      ]
    },
    {
      "cell_type": "code",
      "source": [
        "def info(name,age):\n",
        "  print(name,age)\n",
        "info('A',22)"
      ],
      "metadata": {
        "colab": {
          "base_uri": "https://localhost:8080/"
        },
        "id": "ZR2j9-bOwlJa",
        "outputId": "b788fec6-ee01-45d4-e465-653f5004a509"
      },
      "execution_count": null,
      "outputs": [
        {
          "output_type": "stream",
          "name": "stdout",
          "text": [
            "A 22\n"
          ]
        }
      ]
    },
    {
      "cell_type": "code",
      "source": [
        "def info(name,age):\n",
        "  return name,age\n",
        "info('A',22)"
      ],
      "metadata": {
        "colab": {
          "base_uri": "https://localhost:8080/"
        },
        "id": "oTaNG8iGw08y",
        "outputId": "c542471a-43e8-4d4d-89d8-6a5c933956f6"
      },
      "execution_count": null,
      "outputs": [
        {
          "output_type": "execute_result",
          "data": {
            "text/plain": [
              "('A', 22)"
            ]
          },
          "metadata": {},
          "execution_count": 5
        }
      ]
    },
    {
      "cell_type": "code",
      "source": [
        "def show(name):\n",
        "  return name.lower()\n",
        "\n",
        "new_name =show('Sumit')\n",
        "new_name"
      ],
      "metadata": {
        "colab": {
          "base_uri": "https://localhost:8080/",
          "height": 36
        },
        "id": "NGbzGoc_w6dh",
        "outputId": "23ba8967-62a3-47b6-d7bc-ee15e49914e5"
      },
      "execution_count": null,
      "outputs": [
        {
          "output_type": "execute_result",
          "data": {
            "text/plain": [
              "'sumit'"
            ],
            "application/vnd.google.colaboratory.intrinsic+json": {
              "type": "string"
            }
          },
          "metadata": {},
          "execution_count": 7
        }
      ]
    },
    {
      "cell_type": "code",
      "source": [
        "# we can return multiple values\n",
        "def math(*n):\n",
        "  return sum(n),min(n),max(n)\n",
        "\n",
        "math(2,3,4)"
      ],
      "metadata": {
        "colab": {
          "base_uri": "https://localhost:8080/"
        },
        "id": "eWUP_S-gxhGT",
        "outputId": "5a02dc8f-38ff-4064-fd9b-88cb72b5831a"
      },
      "execution_count": null,
      "outputs": [
        {
          "output_type": "execute_result",
          "data": {
            "text/plain": [
              "(9, 2, 4)"
            ]
          },
          "metadata": {},
          "execution_count": 8
        }
      ]
    },
    {
      "cell_type": "code",
      "source": [
        "# tuple unpacking\n",
        "\n",
        "def math(*n):\n",
        "  return sum(n),min(n),max(n)\n",
        "\n",
        "add,min,max = math(2,3,4)"
      ],
      "metadata": {
        "id": "UW9aLFatyHuR"
      },
      "execution_count": null,
      "outputs": []
    },
    {
      "cell_type": "code",
      "source": [
        "add"
      ],
      "metadata": {
        "colab": {
          "base_uri": "https://localhost:8080/"
        },
        "id": "-FiGIcilycXw",
        "outputId": "6e01ad45-5b4c-40f6-8106-6349bcbe3ebd"
      },
      "execution_count": null,
      "outputs": [
        {
          "output_type": "execute_result",
          "data": {
            "text/plain": [
              "9"
            ]
          },
          "metadata": {},
          "execution_count": 10
        }
      ]
    },
    {
      "cell_type": "code",
      "source": [
        "min"
      ],
      "metadata": {
        "colab": {
          "base_uri": "https://localhost:8080/"
        },
        "id": "9UKMhl6jyde7",
        "outputId": "2167f00f-ad25-402c-ad03-6a40e39b17ee"
      },
      "execution_count": null,
      "outputs": [
        {
          "output_type": "execute_result",
          "data": {
            "text/plain": [
              "2"
            ]
          },
          "metadata": {},
          "execution_count": 11
        }
      ]
    },
    {
      "cell_type": "code",
      "source": [
        "max"
      ],
      "metadata": {
        "colab": {
          "base_uri": "https://localhost:8080/"
        },
        "id": "KxXOxW5kyeeh",
        "outputId": "9aa489ae-356e-483a-c056-a7301b009984"
      },
      "execution_count": null,
      "outputs": [
        {
          "output_type": "execute_result",
          "data": {
            "text/plain": [
              "4"
            ]
          },
          "metadata": {},
          "execution_count": 12
        }
      ]
    },
    {
      "cell_type": "markdown",
      "source": [
        "# Lambda function\n",
        "- Anonymous function\n",
        "- Nameless function"
      ],
      "metadata": {
        "id": "P0G_EtvUyoYi"
      }
    },
    {
      "cell_type": "code",
      "source": [
        "# syntax: lambda parameter/s:expression\n",
        "# lambda: keyword\n",
        "# We can only write one expression, multiple expressions not allowed\n",
        "# lambda has default return"
      ],
      "metadata": {
        "id": "7k2iBBWFyfSK"
      },
      "execution_count": null,
      "outputs": []
    },
    {
      "cell_type": "code",
      "source": [
        "# Use: When we need to implement short, simple and consise function then use lambda\n",
        "# PS: write a function to square the given number\n",
        "\n",
        "def sq(num):\n",
        "  return num**2\n",
        "sq(25)"
      ],
      "metadata": {
        "colab": {
          "base_uri": "https://localhost:8080/"
        },
        "id": "m3TGv2ipzBRJ",
        "outputId": "c341f132-837f-4380-b6f3-5ccea40de116"
      },
      "execution_count": null,
      "outputs": [
        {
          "output_type": "execute_result",
          "data": {
            "text/plain": [
              "625"
            ]
          },
          "metadata": {},
          "execution_count": 17
        }
      ]
    },
    {
      "cell_type": "code",
      "source": [
        "sq"
      ],
      "metadata": {
        "colab": {
          "base_uri": "https://localhost:8080/"
        },
        "id": "Zr_VGDF50BCM",
        "outputId": "b4587879-3820-49e1-af60-3767c97105d3"
      },
      "execution_count": null,
      "outputs": [
        {
          "output_type": "execute_result",
          "data": {
            "text/plain": [
              "<function __main__.sq(num)>"
            ]
          },
          "metadata": {},
          "execution_count": 18
        }
      ]
    },
    {
      "cell_type": "code",
      "source": [
        "sq = lambda num:num**2\n",
        "sq(25)"
      ],
      "metadata": {
        "colab": {
          "base_uri": "https://localhost:8080/"
        },
        "id": "cylsh7h_zS_0",
        "outputId": "282f0542-149c-4384-825a-c1d880cade71"
      },
      "execution_count": null,
      "outputs": [
        {
          "output_type": "execute_result",
          "data": {
            "text/plain": [
              "625"
            ]
          },
          "metadata": {},
          "execution_count": 19
        }
      ]
    },
    {
      "cell_type": "code",
      "source": [
        "sq"
      ],
      "metadata": {
        "colab": {
          "base_uri": "https://localhost:8080/"
        },
        "id": "OgnMZdV20G7j",
        "outputId": "765c9ad1-31d9-4829-bf06-e588c6e6e8bd"
      },
      "execution_count": null,
      "outputs": [
        {
          "output_type": "execute_result",
          "data": {
            "text/plain": [
              "<function __main__.<lambda>(num)>"
            ]
          },
          "metadata": {},
          "execution_count": 20
        }
      ]
    },
    {
      "cell_type": "code",
      "source": [
        "conv = lambda name:name.lower()\n",
        "conv('RAMESH PANDIT')"
      ],
      "metadata": {
        "colab": {
          "base_uri": "https://localhost:8080/",
          "height": 36
        },
        "id": "mHoW9tfwzeOQ",
        "outputId": "03823817-9e40-45cc-ef3d-21d0345d47e5"
      },
      "execution_count": null,
      "outputs": [
        {
          "output_type": "execute_result",
          "data": {
            "text/plain": [
              "'ramesh pandit'"
            ],
            "application/vnd.google.colaboratory.intrinsic+json": {
              "type": "string"
            }
          },
          "metadata": {},
          "execution_count": 16
        }
      ]
    },
    {
      "cell_type": "markdown",
      "source": [
        "# **Higher Order functions**"
      ],
      "metadata": {
        "id": "mk0G2pRQ0RTw"
      }
    },
    {
      "cell_type": "markdown",
      "source": [
        "**map(function,iterable)**\n",
        "- Uses a function over each element from an iterable"
      ],
      "metadata": {
        "id": "1GRYqJOd0WpY"
      }
    },
    {
      "cell_type": "code",
      "source": [
        "d = [2,8,12,10,22]\n",
        "# Take cube of each number\n",
        "def cb(num):\n",
        "  return num*num*num,num*10\n",
        "\n",
        "map(cb,d)"
      ],
      "metadata": {
        "colab": {
          "base_uri": "https://localhost:8080/"
        },
        "id": "z4VxgyT_zpyA",
        "outputId": "186dad5d-4213-4b00-db44-355204dcedfd"
      },
      "execution_count": null,
      "outputs": [
        {
          "output_type": "execute_result",
          "data": {
            "text/plain": [
              "<map at 0x7a4ffcfea290>"
            ]
          },
          "metadata": {},
          "execution_count": 36
        }
      ]
    },
    {
      "cell_type": "code",
      "source": [
        "# to see actual values we have 2 options\n",
        "# 1. typecasting\n",
        "list(map(cb,d))"
      ],
      "metadata": {
        "colab": {
          "base_uri": "https://localhost:8080/"
        },
        "id": "ZqSkAUtu1Cms",
        "outputId": "8a49b23d-cd93-4591-b091-0df1bb1f03e8"
      },
      "execution_count": null,
      "outputs": [
        {
          "output_type": "execute_result",
          "data": {
            "text/plain": [
              "[(8, 20), (512, 80), (1728, 120), (1000, 100), (10648, 220)]"
            ]
          },
          "metadata": {},
          "execution_count": 37
        }
      ]
    },
    {
      "cell_type": "code",
      "source": [
        "d = [(2,1),(8,12),(10,22)]\n",
        "# Take cube of each number\n",
        "def cb(num1,num2):\n",
        "  return num1*num2\n",
        "\n",
        "list(map(cb,d))\n",
        "# Only one element from an iterable is fethced by map\n",
        "# hence multiple args in declaration nt allowed\n",
        "# it doesnt make a sense, for one value to use 2 variables"
      ],
      "metadata": {
        "colab": {
          "base_uri": "https://localhost:8080/",
          "height": 245
        },
        "id": "p3fNGhN73xof",
        "outputId": "060a1ebe-a68c-49fa-eb2b-08bfbbd7e51e"
      },
      "execution_count": null,
      "outputs": [
        {
          "output_type": "error",
          "ename": "TypeError",
          "evalue": "ignored",
          "traceback": [
            "\u001b[0;31m---------------------------------------------------------------------------\u001b[0m",
            "\u001b[0;31mTypeError\u001b[0m                                 Traceback (most recent call last)",
            "\u001b[0;32m<ipython-input-40-22323e678118>\u001b[0m in \u001b[0;36m<cell line: 6>\u001b[0;34m()\u001b[0m\n\u001b[1;32m      4\u001b[0m   \u001b[0;32mreturn\u001b[0m \u001b[0mnum1\u001b[0m\u001b[0;34m*\u001b[0m\u001b[0mnum2\u001b[0m\u001b[0;34m\u001b[0m\u001b[0;34m\u001b[0m\u001b[0m\n\u001b[1;32m      5\u001b[0m \u001b[0;34m\u001b[0m\u001b[0m\n\u001b[0;32m----> 6\u001b[0;31m \u001b[0mlist\u001b[0m\u001b[0;34m(\u001b[0m\u001b[0mmap\u001b[0m\u001b[0;34m(\u001b[0m\u001b[0mcb\u001b[0m\u001b[0;34m,\u001b[0m\u001b[0md\u001b[0m\u001b[0;34m)\u001b[0m\u001b[0;34m)\u001b[0m\u001b[0;34m\u001b[0m\u001b[0;34m\u001b[0m\u001b[0m\n\u001b[0m\u001b[1;32m      7\u001b[0m \u001b[0;31m# Only one element from an iterable is fethced by map\u001b[0m\u001b[0;34m\u001b[0m\u001b[0;34m\u001b[0m\u001b[0m\n\u001b[1;32m      8\u001b[0m \u001b[0;31m# hence multiple args in declaration nt allowed\u001b[0m\u001b[0;34m\u001b[0m\u001b[0;34m\u001b[0m\u001b[0m\n",
            "\u001b[0;31mTypeError\u001b[0m: cb() missing 1 required positional argument: 'num2'"
          ]
        }
      ]
    },
    {
      "cell_type": "code",
      "source": [
        "# 2. use for loop\n",
        "for val in map(cb,d):\n",
        "  print(val,end=' ')"
      ],
      "metadata": {
        "colab": {
          "base_uri": "https://localhost:8080/"
        },
        "id": "XtxD4aWS1QVf",
        "outputId": "dce73052-f618-4aad-e499-2587af6fc53f"
      },
      "execution_count": null,
      "outputs": [
        {
          "output_type": "stream",
          "name": "stdout",
          "text": [
            "8 512 1728 1000 10648 "
          ]
        }
      ]
    },
    {
      "cell_type": "code",
      "source": [
        "# Using lambda function\n",
        "names = ['ajit','ramesh','anil']\n",
        "\n",
        "list(map(lambda nm:nm.upper(),names))"
      ],
      "metadata": {
        "colab": {
          "base_uri": "https://localhost:8080/"
        },
        "id": "cKUgGAv-1VsA",
        "outputId": "73235374-6f98-4828-954e-247f1a595674"
      },
      "execution_count": null,
      "outputs": [
        {
          "output_type": "execute_result",
          "data": {
            "text/plain": [
              "['AJIT', 'RAMESH', 'ANIL']"
            ]
          },
          "metadata": {},
          "execution_count": 30
        }
      ]
    },
    {
      "cell_type": "code",
      "source": [
        "# lambda with multiple arguuments\n",
        "a = lambda sal1,sal2,sal3:sal1+sal2\n",
        "a(1000,2000,3000)"
      ],
      "metadata": {
        "colab": {
          "base_uri": "https://localhost:8080/"
        },
        "id": "yLHW34xl17tH",
        "outputId": "5c22c263-3594-4f69-e1f4-665bfdf36544"
      },
      "execution_count": null,
      "outputs": [
        {
          "output_type": "execute_result",
          "data": {
            "text/plain": [
              "3000"
            ]
          },
          "metadata": {},
          "execution_count": 34
        }
      ]
    },
    {
      "cell_type": "code",
      "source": [
        "# still we can execute multiple expressions\n",
        "a = lambda sal1,sal2,sal3:(sal1+sal2,sal2+sal3)\n",
        "a(1000,2000,4000)"
      ],
      "metadata": {
        "colab": {
          "base_uri": "https://localhost:8080/"
        },
        "id": "6Gec4CRP2c2P",
        "outputId": "70c3b5fa-78bd-4793-c7ef-08c319e60564"
      },
      "execution_count": null,
      "outputs": [
        {
          "output_type": "execute_result",
          "data": {
            "text/plain": [
              "(3000, 6000)"
            ]
          },
          "metadata": {},
          "execution_count": 46
        }
      ]
    },
    {
      "cell_type": "code",
      "source": [
        "# Assignment: Check for different argument types\n"
      ],
      "metadata": {
        "id": "mgILdSTR5P8Y"
      },
      "execution_count": null,
      "outputs": []
    },
    {
      "cell_type": "markdown",
      "source": [
        "**filter(function,iterable)**\n",
        "- uses a condition written inside a function for selecting the values from an iterble wherever condition results True"
      ],
      "metadata": {
        "id": "OzoCBT6R57r2"
      }
    },
    {
      "cell_type": "code",
      "source": [
        "age = [89,77,54,65,12,34,56,18,11,15,27,30]\n",
        "# select customers age<=18\n",
        "list(filter(lambda a:a<=18,age))"
      ],
      "metadata": {
        "colab": {
          "base_uri": "https://localhost:8080/"
        },
        "id": "wNUbntN454e_",
        "outputId": "45a9a84d-4efb-4a6c-dda9-2b7ad9376cd5"
      },
      "execution_count": null,
      "outputs": [
        {
          "output_type": "execute_result",
          "data": {
            "text/plain": [
              "[12, 18, 11, 15]"
            ]
          },
          "metadata": {},
          "execution_count": 48
        }
      ]
    },
    {
      "cell_type": "code",
      "source": [
        "gend = ['male','female','male','female','female']\n",
        "# select only female\n",
        "list(filter(lambda g:g=='female',gend))"
      ],
      "metadata": {
        "colab": {
          "base_uri": "https://localhost:8080/"
        },
        "id": "VZLU5tJv6loH",
        "outputId": "c6ec03b2-a41b-41d2-d0b2-36f49b66a926"
      },
      "execution_count": null,
      "outputs": [
        {
          "output_type": "execute_result",
          "data": {
            "text/plain": [
              "['female', 'female', 'female']"
            ]
          },
          "metadata": {},
          "execution_count": 49
        }
      ]
    },
    {
      "cell_type": "code",
      "source": [
        "age = [89,77,54,65,12,34,56,18,11,15,27,30]\n",
        "# select customers age<=18 or age<35\n",
        "list(filter(lambda a:(a<=18 or a<35),age))"
      ],
      "metadata": {
        "colab": {
          "base_uri": "https://localhost:8080/"
        },
        "id": "wVHszYUO69nm",
        "outputId": "c7b3de94-af1e-4c37-86f8-2a2b364c9ea8"
      },
      "execution_count": null,
      "outputs": [
        {
          "output_type": "execute_result",
          "data": {
            "text/plain": [
              "[12, 34, 18, 11, 15, 27, 30]"
            ]
          },
          "metadata": {},
          "execution_count": 50
        }
      ]
    },
    {
      "cell_type": "code",
      "source": [
        "import pandas as pd\n",
        "d = pd.read_csv('/content/sample_data/california_housing_train.csv')\n",
        "d.head(2)"
      ],
      "metadata": {
        "colab": {
          "base_uri": "https://localhost:8080/",
          "height": 132
        },
        "id": "dWpafaXX7S_f",
        "outputId": "1963e5b0-f2d5-4d49-8083-e702e24dda40"
      },
      "execution_count": null,
      "outputs": [
        {
          "output_type": "execute_result",
          "data": {
            "text/plain": [
              "   longitude  latitude  housing_median_age  total_rooms  total_bedrooms  \\\n",
              "0    -114.31     34.19                15.0       5612.0          1283.0   \n",
              "1    -114.47     34.40                19.0       7650.0          1901.0   \n",
              "\n",
              "   population  households  median_income  median_house_value  \n",
              "0      1015.0       472.0         1.4936             66900.0  \n",
              "1      1129.0       463.0         1.8200             80100.0  "
            ],
            "text/html": [
              "\n",
              "  <div id=\"df-c4406ba8-baee-4fa5-9774-ce9e98128d7f\" class=\"colab-df-container\">\n",
              "    <div>\n",
              "<style scoped>\n",
              "    .dataframe tbody tr th:only-of-type {\n",
              "        vertical-align: middle;\n",
              "    }\n",
              "\n",
              "    .dataframe tbody tr th {\n",
              "        vertical-align: top;\n",
              "    }\n",
              "\n",
              "    .dataframe thead th {\n",
              "        text-align: right;\n",
              "    }\n",
              "</style>\n",
              "<table border=\"1\" class=\"dataframe\">\n",
              "  <thead>\n",
              "    <tr style=\"text-align: right;\">\n",
              "      <th></th>\n",
              "      <th>longitude</th>\n",
              "      <th>latitude</th>\n",
              "      <th>housing_median_age</th>\n",
              "      <th>total_rooms</th>\n",
              "      <th>total_bedrooms</th>\n",
              "      <th>population</th>\n",
              "      <th>households</th>\n",
              "      <th>median_income</th>\n",
              "      <th>median_house_value</th>\n",
              "    </tr>\n",
              "  </thead>\n",
              "  <tbody>\n",
              "    <tr>\n",
              "      <th>0</th>\n",
              "      <td>-114.31</td>\n",
              "      <td>34.19</td>\n",
              "      <td>15.0</td>\n",
              "      <td>5612.0</td>\n",
              "      <td>1283.0</td>\n",
              "      <td>1015.0</td>\n",
              "      <td>472.0</td>\n",
              "      <td>1.4936</td>\n",
              "      <td>66900.0</td>\n",
              "    </tr>\n",
              "    <tr>\n",
              "      <th>1</th>\n",
              "      <td>-114.47</td>\n",
              "      <td>34.40</td>\n",
              "      <td>19.0</td>\n",
              "      <td>7650.0</td>\n",
              "      <td>1901.0</td>\n",
              "      <td>1129.0</td>\n",
              "      <td>463.0</td>\n",
              "      <td>1.8200</td>\n",
              "      <td>80100.0</td>\n",
              "    </tr>\n",
              "  </tbody>\n",
              "</table>\n",
              "</div>\n",
              "    <div class=\"colab-df-buttons\">\n",
              "\n",
              "  <div class=\"colab-df-container\">\n",
              "    <button class=\"colab-df-convert\" onclick=\"convertToInteractive('df-c4406ba8-baee-4fa5-9774-ce9e98128d7f')\"\n",
              "            title=\"Convert this dataframe to an interactive table.\"\n",
              "            style=\"display:none;\">\n",
              "\n",
              "  <svg xmlns=\"http://www.w3.org/2000/svg\" height=\"24px\" viewBox=\"0 -960 960 960\">\n",
              "    <path d=\"M120-120v-720h720v720H120Zm60-500h600v-160H180v160Zm220 220h160v-160H400v160Zm0 220h160v-160H400v160ZM180-400h160v-160H180v160Zm440 0h160v-160H620v160ZM180-180h160v-160H180v160Zm440 0h160v-160H620v160Z\"/>\n",
              "  </svg>\n",
              "    </button>\n",
              "\n",
              "  <style>\n",
              "    .colab-df-container {\n",
              "      display:flex;\n",
              "      gap: 12px;\n",
              "    }\n",
              "\n",
              "    .colab-df-convert {\n",
              "      background-color: #E8F0FE;\n",
              "      border: none;\n",
              "      border-radius: 50%;\n",
              "      cursor: pointer;\n",
              "      display: none;\n",
              "      fill: #1967D2;\n",
              "      height: 32px;\n",
              "      padding: 0 0 0 0;\n",
              "      width: 32px;\n",
              "    }\n",
              "\n",
              "    .colab-df-convert:hover {\n",
              "      background-color: #E2EBFA;\n",
              "      box-shadow: 0px 1px 2px rgba(60, 64, 67, 0.3), 0px 1px 3px 1px rgba(60, 64, 67, 0.15);\n",
              "      fill: #174EA6;\n",
              "    }\n",
              "\n",
              "    .colab-df-buttons div {\n",
              "      margin-bottom: 4px;\n",
              "    }\n",
              "\n",
              "    [theme=dark] .colab-df-convert {\n",
              "      background-color: #3B4455;\n",
              "      fill: #D2E3FC;\n",
              "    }\n",
              "\n",
              "    [theme=dark] .colab-df-convert:hover {\n",
              "      background-color: #434B5C;\n",
              "      box-shadow: 0px 1px 3px 1px rgba(0, 0, 0, 0.15);\n",
              "      filter: drop-shadow(0px 1px 2px rgba(0, 0, 0, 0.3));\n",
              "      fill: #FFFFFF;\n",
              "    }\n",
              "  </style>\n",
              "\n",
              "    <script>\n",
              "      const buttonEl =\n",
              "        document.querySelector('#df-c4406ba8-baee-4fa5-9774-ce9e98128d7f button.colab-df-convert');\n",
              "      buttonEl.style.display =\n",
              "        google.colab.kernel.accessAllowed ? 'block' : 'none';\n",
              "\n",
              "      async function convertToInteractive(key) {\n",
              "        const element = document.querySelector('#df-c4406ba8-baee-4fa5-9774-ce9e98128d7f');\n",
              "        const dataTable =\n",
              "          await google.colab.kernel.invokeFunction('convertToInteractive',\n",
              "                                                    [key], {});\n",
              "        if (!dataTable) return;\n",
              "\n",
              "        const docLinkHtml = 'Like what you see? Visit the ' +\n",
              "          '<a target=\"_blank\" href=https://colab.research.google.com/notebooks/data_table.ipynb>data table notebook</a>'\n",
              "          + ' to learn more about interactive tables.';\n",
              "        element.innerHTML = '';\n",
              "        dataTable['output_type'] = 'display_data';\n",
              "        await google.colab.output.renderOutput(dataTable, element);\n",
              "        const docLink = document.createElement('div');\n",
              "        docLink.innerHTML = docLinkHtml;\n",
              "        element.appendChild(docLink);\n",
              "      }\n",
              "    </script>\n",
              "  </div>\n",
              "\n",
              "\n",
              "<div id=\"df-323cdd9f-f1ba-4544-9370-78262d208b1d\">\n",
              "  <button class=\"colab-df-quickchart\" onclick=\"quickchart('df-323cdd9f-f1ba-4544-9370-78262d208b1d')\"\n",
              "            title=\"Suggest charts\"\n",
              "            style=\"display:none;\">\n",
              "\n",
              "<svg xmlns=\"http://www.w3.org/2000/svg\" height=\"24px\"viewBox=\"0 0 24 24\"\n",
              "     width=\"24px\">\n",
              "    <g>\n",
              "        <path d=\"M19 3H5c-1.1 0-2 .9-2 2v14c0 1.1.9 2 2 2h14c1.1 0 2-.9 2-2V5c0-1.1-.9-2-2-2zM9 17H7v-7h2v7zm4 0h-2V7h2v10zm4 0h-2v-4h2v4z\"/>\n",
              "    </g>\n",
              "</svg>\n",
              "  </button>\n",
              "\n",
              "<style>\n",
              "  .colab-df-quickchart {\n",
              "      --bg-color: #E8F0FE;\n",
              "      --fill-color: #1967D2;\n",
              "      --hover-bg-color: #E2EBFA;\n",
              "      --hover-fill-color: #174EA6;\n",
              "      --disabled-fill-color: #AAA;\n",
              "      --disabled-bg-color: #DDD;\n",
              "  }\n",
              "\n",
              "  [theme=dark] .colab-df-quickchart {\n",
              "      --bg-color: #3B4455;\n",
              "      --fill-color: #D2E3FC;\n",
              "      --hover-bg-color: #434B5C;\n",
              "      --hover-fill-color: #FFFFFF;\n",
              "      --disabled-bg-color: #3B4455;\n",
              "      --disabled-fill-color: #666;\n",
              "  }\n",
              "\n",
              "  .colab-df-quickchart {\n",
              "    background-color: var(--bg-color);\n",
              "    border: none;\n",
              "    border-radius: 50%;\n",
              "    cursor: pointer;\n",
              "    display: none;\n",
              "    fill: var(--fill-color);\n",
              "    height: 32px;\n",
              "    padding: 0;\n",
              "    width: 32px;\n",
              "  }\n",
              "\n",
              "  .colab-df-quickchart:hover {\n",
              "    background-color: var(--hover-bg-color);\n",
              "    box-shadow: 0 1px 2px rgba(60, 64, 67, 0.3), 0 1px 3px 1px rgba(60, 64, 67, 0.15);\n",
              "    fill: var(--button-hover-fill-color);\n",
              "  }\n",
              "\n",
              "  .colab-df-quickchart-complete:disabled,\n",
              "  .colab-df-quickchart-complete:disabled:hover {\n",
              "    background-color: var(--disabled-bg-color);\n",
              "    fill: var(--disabled-fill-color);\n",
              "    box-shadow: none;\n",
              "  }\n",
              "\n",
              "  .colab-df-spinner {\n",
              "    border: 2px solid var(--fill-color);\n",
              "    border-color: transparent;\n",
              "    border-bottom-color: var(--fill-color);\n",
              "    animation:\n",
              "      spin 1s steps(1) infinite;\n",
              "  }\n",
              "\n",
              "  @keyframes spin {\n",
              "    0% {\n",
              "      border-color: transparent;\n",
              "      border-bottom-color: var(--fill-color);\n",
              "      border-left-color: var(--fill-color);\n",
              "    }\n",
              "    20% {\n",
              "      border-color: transparent;\n",
              "      border-left-color: var(--fill-color);\n",
              "      border-top-color: var(--fill-color);\n",
              "    }\n",
              "    30% {\n",
              "      border-color: transparent;\n",
              "      border-left-color: var(--fill-color);\n",
              "      border-top-color: var(--fill-color);\n",
              "      border-right-color: var(--fill-color);\n",
              "    }\n",
              "    40% {\n",
              "      border-color: transparent;\n",
              "      border-right-color: var(--fill-color);\n",
              "      border-top-color: var(--fill-color);\n",
              "    }\n",
              "    60% {\n",
              "      border-color: transparent;\n",
              "      border-right-color: var(--fill-color);\n",
              "    }\n",
              "    80% {\n",
              "      border-color: transparent;\n",
              "      border-right-color: var(--fill-color);\n",
              "      border-bottom-color: var(--fill-color);\n",
              "    }\n",
              "    90% {\n",
              "      border-color: transparent;\n",
              "      border-bottom-color: var(--fill-color);\n",
              "    }\n",
              "  }\n",
              "</style>\n",
              "\n",
              "  <script>\n",
              "    async function quickchart(key) {\n",
              "      const quickchartButtonEl =\n",
              "        document.querySelector('#' + key + ' button');\n",
              "      quickchartButtonEl.disabled = true;  // To prevent multiple clicks.\n",
              "      quickchartButtonEl.classList.add('colab-df-spinner');\n",
              "      try {\n",
              "        const charts = await google.colab.kernel.invokeFunction(\n",
              "            'suggestCharts', [key], {});\n",
              "      } catch (error) {\n",
              "        console.error('Error during call to suggestCharts:', error);\n",
              "      }\n",
              "      quickchartButtonEl.classList.remove('colab-df-spinner');\n",
              "      quickchartButtonEl.classList.add('colab-df-quickchart-complete');\n",
              "    }\n",
              "    (() => {\n",
              "      let quickchartButtonEl =\n",
              "        document.querySelector('#df-323cdd9f-f1ba-4544-9370-78262d208b1d button');\n",
              "      quickchartButtonEl.style.display =\n",
              "        google.colab.kernel.accessAllowed ? 'block' : 'none';\n",
              "    })();\n",
              "  </script>\n",
              "</div>\n",
              "    </div>\n",
              "  </div>\n"
            ]
          },
          "metadata": {},
          "execution_count": 51
        }
      ]
    },
    {
      "cell_type": "code",
      "source": [
        "#d['housing_median_age'].describe()\n",
        "list(filter(lambda age:age>35,d['housing_median_age']))"
      ],
      "metadata": {
        "colab": {
          "base_uri": "https://localhost:8080/"
        },
        "id": "WLf6aIMe8A0g",
        "outputId": "694622a9-2dd4-42d5-9d95-cf78907b8c1b"
      },
      "execution_count": null,
      "outputs": [
        {
          "output_type": "execute_result",
          "data": {
            "text/plain": [
              "[41.0,\n",
              " 46.0,\n",
              " 48.0,\n",
              " 38.0,\n",
              " 38.0,\n",
              " 41.0,\n",
              " 46.0,\n",
              " 37.0,\n",
              " 44.0,\n",
              " 38.0,\n",
              " 37.0,\n",
              " 36.0,\n",
              " 38.0,\n",
              " 52.0,\n",
              " 37.0,\n",
              " 38.0,\n",
              " 37.0,\n",
              " 40.0,\n",
              " 36.0,\n",
              " 43.0,\n",
              " 37.0,\n",
              " 36.0,\n",
              " 40.0,\n",
              " 36.0,\n",
              " 37.0,\n",
              " 38.0,\n",
              " 38.0,\n",
              " 37.0,\n",
              " 37.0,\n",
              " 43.0,\n",
              " 37.0,\n",
              " 36.0,\n",
              " 36.0,\n",
              " 37.0,\n",
              " 46.0,\n",
              " 43.0,\n",
              " 36.0,\n",
              " 36.0,\n",
              " 38.0,\n",
              " 41.0,\n",
              " 38.0,\n",
              " 36.0,\n",
              " 37.0,\n",
              " 36.0,\n",
              " 36.0,\n",
              " 38.0,\n",
              " 38.0,\n",
              " 42.0,\n",
              " 37.0,\n",
              " 37.0,\n",
              " 39.0,\n",
              " 36.0,\n",
              " 38.0,\n",
              " 40.0,\n",
              " 37.0,\n",
              " 37.0,\n",
              " 37.0,\n",
              " 36.0,\n",
              " 36.0,\n",
              " 37.0,\n",
              " 36.0,\n",
              " 36.0,\n",
              " 43.0,\n",
              " 38.0,\n",
              " 36.0,\n",
              " 36.0,\n",
              " 36.0,\n",
              " 36.0,\n",
              " 38.0,\n",
              " 44.0,\n",
              " 43.0,\n",
              " 39.0,\n",
              " 37.0,\n",
              " 46.0,\n",
              " 38.0,\n",
              " 38.0,\n",
              " 37.0,\n",
              " 49.0,\n",
              " 52.0,\n",
              " 42.0,\n",
              " 37.0,\n",
              " 49.0,\n",
              " 47.0,\n",
              " 47.0,\n",
              " 46.0,\n",
              " 52.0,\n",
              " 52.0,\n",
              " 50.0,\n",
              " 48.0,\n",
              " 46.0,\n",
              " 37.0,\n",
              " 39.0,\n",
              " 37.0,\n",
              " 36.0,\n",
              " 36.0,\n",
              " 52.0,\n",
              " 52.0,\n",
              " 46.0,\n",
              " 43.0,\n",
              " 38.0,\n",
              " 45.0,\n",
              " 48.0,\n",
              " 43.0,\n",
              " 37.0,\n",
              " 52.0,\n",
              " 46.0,\n",
              " 50.0,\n",
              " 36.0,\n",
              " 38.0,\n",
              " 37.0,\n",
              " 36.0,\n",
              " 46.0,\n",
              " 37.0,\n",
              " 50.0,\n",
              " 37.0,\n",
              " 52.0,\n",
              " 50.0,\n",
              " 46.0,\n",
              " 52.0,\n",
              " 52.0,\n",
              " 52.0,\n",
              " 43.0,\n",
              " 52.0,\n",
              " 43.0,\n",
              " 44.0,\n",
              " 42.0,\n",
              " 38.0,\n",
              " 37.0,\n",
              " 48.0,\n",
              " 42.0,\n",
              " 38.0,\n",
              " 41.0,\n",
              " 37.0,\n",
              " 47.0,\n",
              " 43.0,\n",
              " 42.0,\n",
              " 52.0,\n",
              " 52.0,\n",
              " 52.0,\n",
              " 43.0,\n",
              " 39.0,\n",
              " 48.0,\n",
              " 44.0,\n",
              " 43.0,\n",
              " 40.0,\n",
              " 36.0,\n",
              " 41.0,\n",
              " 43.0,\n",
              " 40.0,\n",
              " 37.0,\n",
              " 36.0,\n",
              " 43.0,\n",
              " 52.0,\n",
              " 51.0,\n",
              " 52.0,\n",
              " 52.0,\n",
              " 52.0,\n",
              " 50.0,\n",
              " 37.0,\n",
              " 49.0,\n",
              " 52.0,\n",
              " 49.0,\n",
              " 43.0,\n",
              " 52.0,\n",
              " 52.0,\n",
              " 36.0,\n",
              " 44.0,\n",
              " 43.0,\n",
              " 42.0,\n",
              " 52.0,\n",
              " 38.0,\n",
              " 39.0,\n",
              " 38.0,\n",
              " 52.0,\n",
              " 52.0,\n",
              " 52.0,\n",
              " 44.0,\n",
              " 39.0,\n",
              " 45.0,\n",
              " 40.0,\n",
              " 52.0,\n",
              " 38.0,\n",
              " 52.0,\n",
              " 52.0,\n",
              " 36.0,\n",
              " 39.0,\n",
              " 52.0,\n",
              " 48.0,\n",
              " 44.0,\n",
              " 37.0,\n",
              " 40.0,\n",
              " 37.0,\n",
              " 52.0,\n",
              " 36.0,\n",
              " 36.0,\n",
              " 52.0,\n",
              " 52.0,\n",
              " 52.0,\n",
              " 52.0,\n",
              " 38.0,\n",
              " 36.0,\n",
              " 52.0,\n",
              " 52.0,\n",
              " 52.0,\n",
              " 41.0,\n",
              " 44.0,\n",
              " 38.0,\n",
              " 44.0,\n",
              " 41.0,\n",
              " 36.0,\n",
              " 36.0,\n",
              " 45.0,\n",
              " 44.0,\n",
              " 44.0,\n",
              " 43.0,\n",
              " 37.0,\n",
              " 39.0,\n",
              " 39.0,\n",
              " 37.0,\n",
              " 37.0,\n",
              " 39.0,\n",
              " 37.0,\n",
              " 36.0,\n",
              " 37.0,\n",
              " 36.0,\n",
              " 40.0,\n",
              " 36.0,\n",
              " 36.0,\n",
              " 39.0,\n",
              " 38.0,\n",
              " 37.0,\n",
              " 36.0,\n",
              " 39.0,\n",
              " 37.0,\n",
              " 36.0,\n",
              " 42.0,\n",
              " 37.0,\n",
              " 36.0,\n",
              " 40.0,\n",
              " 36.0,\n",
              " 52.0,\n",
              " 44.0,\n",
              " 38.0,\n",
              " 36.0,\n",
              " 39.0,\n",
              " 42.0,\n",
              " 38.0,\n",
              " 36.0,\n",
              " 40.0,\n",
              " 40.0,\n",
              " 47.0,\n",
              " 36.0,\n",
              " 39.0,\n",
              " 44.0,\n",
              " 41.0,\n",
              " 38.0,\n",
              " 44.0,\n",
              " 49.0,\n",
              " 42.0,\n",
              " 52.0,\n",
              " 48.0,\n",
              " 45.0,\n",
              " 39.0,\n",
              " 52.0,\n",
              " 44.0,\n",
              " 47.0,\n",
              " 45.0,\n",
              " 40.0,\n",
              " 38.0,\n",
              " 38.0,\n",
              " 39.0,\n",
              " 42.0,\n",
              " 50.0,\n",
              " 42.0,\n",
              " 44.0,\n",
              " 38.0,\n",
              " 38.0,\n",
              " 36.0,\n",
              " 37.0,\n",
              " 52.0,\n",
              " 41.0,\n",
              " 52.0,\n",
              " 43.0,\n",
              " 40.0,\n",
              " 37.0,\n",
              " 40.0,\n",
              " 38.0,\n",
              " 42.0,\n",
              " 41.0,\n",
              " 39.0,\n",
              " 37.0,\n",
              " 41.0,\n",
              " 42.0,\n",
              " 38.0,\n",
              " 46.0,\n",
              " 41.0,\n",
              " 52.0,\n",
              " 46.0,\n",
              " 48.0,\n",
              " 42.0,\n",
              " 36.0,\n",
              " 37.0,\n",
              " 46.0,\n",
              " 36.0,\n",
              " 38.0,\n",
              " 45.0,\n",
              " 36.0,\n",
              " 42.0,\n",
              " 46.0,\n",
              " 39.0,\n",
              " 39.0,\n",
              " 44.0,\n",
              " 52.0,\n",
              " 41.0,\n",
              " 36.0,\n",
              " 44.0,\n",
              " 52.0,\n",
              " 40.0,\n",
              " 45.0,\n",
              " 52.0,\n",
              " 52.0,\n",
              " 48.0,\n",
              " 49.0,\n",
              " 36.0,\n",
              " 41.0,\n",
              " 38.0,\n",
              " 51.0,\n",
              " 46.0,\n",
              " 43.0,\n",
              " 42.0,\n",
              " 37.0,\n",
              " 38.0,\n",
              " 38.0,\n",
              " 37.0,\n",
              " 37.0,\n",
              " 43.0,\n",
              " 36.0,\n",
              " 43.0,\n",
              " 36.0,\n",
              " 39.0,\n",
              " 40.0,\n",
              " 39.0,\n",
              " 37.0,\n",
              " 42.0,\n",
              " 36.0,\n",
              " 43.0,\n",
              " 38.0,\n",
              " 39.0,\n",
              " 39.0,\n",
              " 36.0,\n",
              " 37.0,\n",
              " 52.0,\n",
              " 43.0,\n",
              " 38.0,\n",
              " 50.0,\n",
              " 43.0,\n",
              " 44.0,\n",
              " 46.0,\n",
              " 52.0,\n",
              " 40.0,\n",
              " 38.0,\n",
              " 52.0,\n",
              " 41.0,\n",
              " 41.0,\n",
              " 37.0,\n",
              " 37.0,\n",
              " 36.0,\n",
              " 36.0,\n",
              " 52.0,\n",
              " 41.0,\n",
              " 36.0,\n",
              " 52.0,\n",
              " 36.0,\n",
              " 37.0,\n",
              " 36.0,\n",
              " 51.0,\n",
              " 36.0,\n",
              " 42.0,\n",
              " 36.0,\n",
              " 52.0,\n",
              " 42.0,\n",
              " 48.0,\n",
              " 36.0,\n",
              " 52.0,\n",
              " 52.0,\n",
              " 52.0,\n",
              " 52.0,\n",
              " 52.0,\n",
              " 52.0,\n",
              " 44.0,\n",
              " 46.0,\n",
              " 37.0,\n",
              " 37.0,\n",
              " 51.0,\n",
              " 48.0,\n",
              " 47.0,\n",
              " 36.0,\n",
              " 36.0,\n",
              " 40.0,\n",
              " 38.0,\n",
              " 47.0,\n",
              " 46.0,\n",
              " 39.0,\n",
              " 44.0,\n",
              " 36.0,\n",
              " 39.0,\n",
              " 38.0,\n",
              " 41.0,\n",
              " 50.0,\n",
              " 37.0,\n",
              " 40.0,\n",
              " 52.0,\n",
              " 46.0,\n",
              " 40.0,\n",
              " 52.0,\n",
              " 36.0,\n",
              " 40.0,\n",
              " 42.0,\n",
              " 39.0,\n",
              " 39.0,\n",
              " 38.0,\n",
              " 38.0,\n",
              " 37.0,\n",
              " 36.0,\n",
              " 37.0,\n",
              " 36.0,\n",
              " 52.0,\n",
              " 37.0,\n",
              " 52.0,\n",
              " 45.0,\n",
              " 39.0,\n",
              " 37.0,\n",
              " 44.0,\n",
              " 36.0,\n",
              " 37.0,\n",
              " 50.0,\n",
              " 36.0,\n",
              " 36.0,\n",
              " 37.0,\n",
              " 37.0,\n",
              " 36.0,\n",
              " 38.0,\n",
              " 36.0,\n",
              " 44.0,\n",
              " 42.0,\n",
              " 37.0,\n",
              " 36.0,\n",
              " 36.0,\n",
              " 44.0,\n",
              " 41.0,\n",
              " 42.0,\n",
              " 41.0,\n",
              " 36.0,\n",
              " 52.0,\n",
              " 47.0,\n",
              " 40.0,\n",
              " 38.0,\n",
              " 37.0,\n",
              " 40.0,\n",
              " 38.0,\n",
              " 36.0,\n",
              " 42.0,\n",
              " 36.0,\n",
              " 36.0,\n",
              " 38.0,\n",
              " 36.0,\n",
              " 36.0,\n",
              " 36.0,\n",
              " 52.0,\n",
              " 36.0,\n",
              " 44.0,\n",
              " 45.0,\n",
              " 38.0,\n",
              " 52.0,\n",
              " 36.0,\n",
              " 36.0,\n",
              " 39.0,\n",
              " 37.0,\n",
              " 37.0,\n",
              " 36.0,\n",
              " 37.0,\n",
              " 36.0,\n",
              " 36.0,\n",
              " 36.0,\n",
              " 36.0,\n",
              " 36.0,\n",
              " 37.0,\n",
              " 36.0,\n",
              " 37.0,\n",
              " 52.0,\n",
              " 45.0,\n",
              " 52.0,\n",
              " 45.0,\n",
              " 36.0,\n",
              " 36.0,\n",
              " 36.0,\n",
              " 36.0,\n",
              " 36.0,\n",
              " 37.0,\n",
              " 37.0,\n",
              " 40.0,\n",
              " 37.0,\n",
              " 36.0,\n",
              " 36.0,\n",
              " 36.0,\n",
              " 38.0,\n",
              " 38.0,\n",
              " 39.0,\n",
              " 36.0,\n",
              " 36.0,\n",
              " 36.0,\n",
              " 42.0,\n",
              " 36.0,\n",
              " 36.0,\n",
              " 36.0,\n",
              " 45.0,\n",
              " 37.0,\n",
              " 36.0,\n",
              " 36.0,\n",
              " 37.0,\n",
              " 38.0,\n",
              " 40.0,\n",
              " 44.0,\n",
              " 37.0,\n",
              " 36.0,\n",
              " 52.0,\n",
              " 42.0,\n",
              " 48.0,\n",
              " 39.0,\n",
              " 42.0,\n",
              " 37.0,\n",
              " 37.0,\n",
              " 36.0,\n",
              " 47.0,\n",
              " 52.0,\n",
              " 38.0,\n",
              " 36.0,\n",
              " 43.0,\n",
              " 43.0,\n",
              " 36.0,\n",
              " 37.0,\n",
              " 36.0,\n",
              " 36.0,\n",
              " 36.0,\n",
              " 36.0,\n",
              " 36.0,\n",
              " 36.0,\n",
              " 38.0,\n",
              " 44.0,\n",
              " 37.0,\n",
              " 36.0,\n",
              " 39.0,\n",
              " 36.0,\n",
              " 36.0,\n",
              " 36.0,\n",
              " 36.0,\n",
              " 38.0,\n",
              " 36.0,\n",
              " 36.0,\n",
              " 36.0,\n",
              " 36.0,\n",
              " 36.0,\n",
              " 38.0,\n",
              " 39.0,\n",
              " 36.0,\n",
              " 43.0,\n",
              " 44.0,\n",
              " 38.0,\n",
              " 38.0,\n",
              " 42.0,\n",
              " 37.0,\n",
              " 37.0,\n",
              " 36.0,\n",
              " 36.0,\n",
              " 52.0,\n",
              " 46.0,\n",
              " 39.0,\n",
              " 39.0,\n",
              " 36.0,\n",
              " 36.0,\n",
              " 37.0,\n",
              " 37.0,\n",
              " 37.0,\n",
              " 36.0,\n",
              " 52.0,\n",
              " 38.0,\n",
              " 39.0,\n",
              " 44.0,\n",
              " 39.0,\n",
              " 37.0,\n",
              " 39.0,\n",
              " 38.0,\n",
              " 52.0,\n",
              " 39.0,\n",
              " 39.0,\n",
              " 47.0,\n",
              " 36.0,\n",
              " 50.0,\n",
              " 43.0,\n",
              " 42.0,\n",
              " 37.0,\n",
              " 36.0,\n",
              " 36.0,\n",
              " 37.0,\n",
              " 36.0,\n",
              " 36.0,\n",
              " 36.0,\n",
              " 45.0,\n",
              " 36.0,\n",
              " 48.0,\n",
              " 42.0,\n",
              " 45.0,\n",
              " 36.0,\n",
              " 42.0,\n",
              " 38.0,\n",
              " 41.0,\n",
              " 41.0,\n",
              " 36.0,\n",
              " 37.0,\n",
              " 38.0,\n",
              " 46.0,\n",
              " 42.0,\n",
              " 40.0,\n",
              " 40.0,\n",
              " 39.0,\n",
              " 43.0,\n",
              " 42.0,\n",
              " 38.0,\n",
              " 38.0,\n",
              " 38.0,\n",
              " 40.0,\n",
              " 38.0,\n",
              " 36.0,\n",
              " 37.0,\n",
              " 47.0,\n",
              " 46.0,\n",
              " 45.0,\n",
              " 38.0,\n",
              " 50.0,\n",
              " 42.0,\n",
              " 40.0,\n",
              " 40.0,\n",
              " 38.0,\n",
              " 39.0,\n",
              " 37.0,\n",
              " 36.0,\n",
              " 37.0,\n",
              " 36.0,\n",
              " 39.0,\n",
              " 45.0,\n",
              " 42.0,\n",
              " 43.0,\n",
              " 47.0,\n",
              " 41.0,\n",
              " 38.0,\n",
              " 38.0,\n",
              " 36.0,\n",
              " 42.0,\n",
              " 37.0,\n",
              " 41.0,\n",
              " 39.0,\n",
              " 41.0,\n",
              " 36.0,\n",
              " 45.0,\n",
              " 42.0,\n",
              " 39.0,\n",
              " 42.0,\n",
              " 52.0,\n",
              " 42.0,\n",
              " 46.0,\n",
              " 39.0,\n",
              " 41.0,\n",
              " 42.0,\n",
              " 42.0,\n",
              " 36.0,\n",
              " 43.0,\n",
              " 36.0,\n",
              " 38.0,\n",
              " 37.0,\n",
              " 36.0,\n",
              " 39.0,\n",
              " 36.0,\n",
              " 38.0,\n",
              " 36.0,\n",
              " 36.0,\n",
              " 37.0,\n",
              " 39.0,\n",
              " 39.0,\n",
              " 39.0,\n",
              " 36.0,\n",
              " 44.0,\n",
              " 42.0,\n",
              " 41.0,\n",
              " 37.0,\n",
              " 36.0,\n",
              " 45.0,\n",
              " 49.0,\n",
              " 46.0,\n",
              " 45.0,\n",
              " 40.0,\n",
              " 45.0,\n",
              " 38.0,\n",
              " 45.0,\n",
              " 36.0,\n",
              " 40.0,\n",
              " 40.0,\n",
              " 36.0,\n",
              " 42.0,\n",
              " 45.0,\n",
              " 38.0,\n",
              " 38.0,\n",
              " 42.0,\n",
              " 36.0,\n",
              " 36.0,\n",
              " 39.0,\n",
              " 37.0,\n",
              " 39.0,\n",
              " 36.0,\n",
              " 36.0,\n",
              " 36.0,\n",
              " 36.0,\n",
              " 37.0,\n",
              " 36.0,\n",
              " 36.0,\n",
              " 36.0,\n",
              " 36.0,\n",
              " 36.0,\n",
              " 36.0,\n",
              " 36.0,\n",
              " 36.0,\n",
              " 36.0,\n",
              " 36.0,\n",
              " 36.0,\n",
              " 44.0,\n",
              " 47.0,\n",
              " 39.0,\n",
              " 46.0,\n",
              " 44.0,\n",
              " 45.0,\n",
              " 44.0,\n",
              " 50.0,\n",
              " 49.0,\n",
              " 49.0,\n",
              " 52.0,\n",
              " 46.0,\n",
              " 44.0,\n",
              " 42.0,\n",
              " 37.0,\n",
              " 36.0,\n",
              " 36.0,\n",
              " 37.0,\n",
              " 42.0,\n",
              " 36.0,\n",
              " 40.0,\n",
              " 38.0,\n",
              " 36.0,\n",
              " 36.0,\n",
              " 36.0,\n",
              " 40.0,\n",
              " 36.0,\n",
              " 36.0,\n",
              " 43.0,\n",
              " 40.0,\n",
              " 37.0,\n",
              " 37.0,\n",
              " 36.0,\n",
              " 36.0,\n",
              " 36.0,\n",
              " 36.0,\n",
              " 36.0,\n",
              " 37.0,\n",
              " 36.0,\n",
              " 36.0,\n",
              " 36.0,\n",
              " 36.0,\n",
              " 36.0,\n",
              " 36.0,\n",
              " 37.0,\n",
              " 36.0,\n",
              " 37.0,\n",
              " 50.0,\n",
              " 52.0,\n",
              " 50.0,\n",
              " 46.0,\n",
              " 52.0,\n",
              " 52.0,\n",
              " 40.0,\n",
              " 52.0,\n",
              " 44.0,\n",
              " 52.0,\n",
              " 50.0,\n",
              " 49.0,\n",
              " 44.0,\n",
              " 45.0,\n",
              " 42.0,\n",
              " 46.0,\n",
              " 40.0,\n",
              " 43.0,\n",
              " 41.0,\n",
              " 38.0,\n",
              " 36.0,\n",
              " 36.0,\n",
              " 37.0,\n",
              " 36.0,\n",
              " 36.0,\n",
              " 36.0,\n",
              " 36.0,\n",
              " 36.0,\n",
              " 37.0,\n",
              " 36.0,\n",
              " 36.0,\n",
              " 36.0,\n",
              " 36.0,\n",
              " 37.0,\n",
              " 36.0,\n",
              " 36.0,\n",
              " 36.0,\n",
              " 37.0,\n",
              " 37.0,\n",
              " 36.0,\n",
              " 36.0,\n",
              " 37.0,\n",
              " 36.0,\n",
              " 36.0,\n",
              " 36.0,\n",
              " 36.0,\n",
              " 36.0,\n",
              " 43.0,\n",
              " 46.0,\n",
              " 52.0,\n",
              " 52.0,\n",
              " 47.0,\n",
              " 44.0,\n",
              " 52.0,\n",
              " 52.0,\n",
              " 52.0,\n",
              " 37.0,\n",
              " 52.0,\n",
              " 52.0,\n",
              " 52.0,\n",
              " 52.0,\n",
              " 48.0,\n",
              " 49.0,\n",
              " 52.0,\n",
              " 36.0,\n",
              " 45.0,\n",
              " 43.0,\n",
              " 36.0,\n",
              " 40.0,\n",
              " 44.0,\n",
              " 38.0,\n",
              " 38.0,\n",
              " 36.0,\n",
              " 36.0,\n",
              " 36.0,\n",
              " 36.0,\n",
              " 40.0,\n",
              " 36.0,\n",
              " 43.0,\n",
              " 44.0,\n",
              " 37.0,\n",
              " 37.0,\n",
              " 37.0,\n",
              " 37.0,\n",
              " 45.0,\n",
              " 44.0,\n",
              " 43.0,\n",
              " 42.0,\n",
              " 36.0,\n",
              " 36.0,\n",
              " 36.0,\n",
              " 43.0,\n",
              " 41.0,\n",
              " 45.0,\n",
              " 43.0,\n",
              " 47.0,\n",
              " 41.0,\n",
              " 36.0,\n",
              " 46.0,\n",
              " 46.0,\n",
              " 45.0,\n",
              " 48.0,\n",
              " 43.0,\n",
              " 42.0,\n",
              " 52.0,\n",
              " 49.0,\n",
              " 36.0,\n",
              " 46.0,\n",
              " 45.0,\n",
              " 42.0,\n",
              " 42.0,\n",
              " 40.0,\n",
              " 42.0,\n",
              " 40.0,\n",
              " 36.0,\n",
              " 42.0,\n",
              " 43.0,\n",
              " 41.0,\n",
              " 40.0,\n",
              " 38.0,\n",
              " 36.0,\n",
              " 43.0,\n",
              " 36.0,\n",
              " 38.0,\n",
              " 36.0,\n",
              " 37.0,\n",
              " 38.0,\n",
              " 36.0,\n",
              " 36.0,\n",
              " 38.0,\n",
              " 36.0,\n",
              " 36.0,\n",
              " 45.0,\n",
              " 45.0,\n",
              " 37.0,\n",
              " 36.0,\n",
              " 36.0,\n",
              " 46.0,\n",
              " 45.0,\n",
              " 44.0,\n",
              " 44.0,\n",
              " 44.0,\n",
              " 37.0,\n",
              " 36.0,\n",
              " 37.0,\n",
              " 37.0,\n",
              " 36.0,\n",
              " 41.0,\n",
              " 36.0,\n",
              " 36.0,\n",
              " 45.0,\n",
              " 44.0,\n",
              " 36.0,\n",
              " 45.0,\n",
              " 52.0,\n",
              " 37.0,\n",
              " 52.0,\n",
              " 46.0,\n",
              " 44.0,\n",
              " 48.0,\n",
              " 39.0,\n",
              " 49.0,\n",
              " 45.0,\n",
              " 50.0,\n",
              " 47.0,\n",
              " 52.0,\n",
              " 40.0,\n",
              " 38.0,\n",
              " 36.0,\n",
              " 52.0,\n",
              " 41.0,\n",
              " 49.0,\n",
              " 52.0,\n",
              " 52.0,\n",
              " 38.0,\n",
              " 52.0,\n",
              " 39.0,\n",
              " 39.0,\n",
              " 37.0,\n",
              " 45.0,\n",
              " 44.0,\n",
              " 45.0,\n",
              " 44.0,\n",
              " 42.0,\n",
              " 40.0,\n",
              " 42.0,\n",
              " 36.0,\n",
              " 36.0,\n",
              " 38.0,\n",
              " 44.0,\n",
              " 42.0,\n",
              " 37.0,\n",
              " 36.0,\n",
              " 37.0,\n",
              " 36.0,\n",
              " 39.0,\n",
              " 39.0,\n",
              " 37.0,\n",
              " 44.0,\n",
              " 44.0,\n",
              " 44.0,\n",
              " 37.0,\n",
              " 36.0,\n",
              " 36.0,\n",
              " 45.0,\n",
              " 44.0,\n",
              " 43.0,\n",
              " 43.0,\n",
              " 45.0,\n",
              " 44.0,\n",
              " 44.0,\n",
              " 42.0,\n",
              " 52.0,\n",
              " 49.0,\n",
              " 52.0,\n",
              " 50.0,\n",
              " 50.0,\n",
              " 44.0,\n",
              " 37.0,\n",
              " 39.0,\n",
              " ...]"
            ]
          },
          "metadata": {},
          "execution_count": 54
        }
      ]
    },
    {
      "cell_type": "code",
      "source": [],
      "metadata": {
        "id": "MhsSytqm8HB_"
      },
      "execution_count": null,
      "outputs": []
    }
  ]
}