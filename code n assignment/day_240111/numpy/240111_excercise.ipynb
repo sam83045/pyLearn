{
  "nbformat": 4,
  "nbformat_minor": 0,
  "metadata": {
    "colab": {
      "provenance": [],
      "collapsed_sections": [
        "gb0QBIzyQskz"
      ]
    },
    "kernelspec": {
      "name": "python3",
      "display_name": "Python 3"
    },
    "language_info": {
      "name": "python"
    }
  },
  "cells": [
    {
      "cell_type": "code",
      "execution_count": 1,
      "metadata": {
        "id": "DHjmE5J7_vJs"
      },
      "outputs": [],
      "source": [
        "import numpy as np"
      ]
    },
    {
      "cell_type": "code",
      "source": [
        "arr = np.random.randn(4,4)\n",
        "arr"
      ],
      "metadata": {
        "colab": {
          "base_uri": "https://localhost:8080/"
        },
        "id": "GkGQi4iaANQj",
        "outputId": "a1546643-b843-456e-d3ea-f45f8123dbef"
      },
      "execution_count": 50,
      "outputs": [
        {
          "output_type": "execute_result",
          "data": {
            "text/plain": [
              "array([[ 0.5474842 , -1.50995394,  0.80391851,  0.18185326],\n",
              "       [ 2.19620673,  0.45342783, -1.65687394,  1.41690624],\n",
              "       [-0.77857731, -0.82444922,  0.04737204, -0.48047794],\n",
              "       [ 0.54506858, -1.14264443,  0.74603469, -1.65686173]])"
            ]
          },
          "metadata": {},
          "execution_count": 50
        }
      ]
    },
    {
      "cell_type": "markdown",
      "source": [
        "### Assignmnt 1:\n",
        "- acess last 2 rows\n",
        "- access middle 2 rows\n",
        "- access 1st and last row\n",
        "- access 2nd and last row\n",
        "- access last 3 rows"
      ],
      "metadata": {
        "id": "gb0QBIzyQskz"
      }
    },
    {
      "cell_type": "code",
      "source": [
        "# access last 2 rows\n",
        "arr[-2:]"
      ],
      "metadata": {
        "colab": {
          "base_uri": "https://localhost:8080/"
        },
        "id": "V1zaVU1dQqGO",
        "outputId": "1feb7014-5e2e-4304-91b2-ceb68fdc22e2"
      },
      "execution_count": 51,
      "outputs": [
        {
          "output_type": "execute_result",
          "data": {
            "text/plain": [
              "array([[-0.77857731, -0.82444922,  0.04737204, -0.48047794],\n",
              "       [ 0.54506858, -1.14264443,  0.74603469, -1.65686173]])"
            ]
          },
          "metadata": {},
          "execution_count": 51
        }
      ]
    },
    {
      "cell_type": "code",
      "source": [
        "# access middle 2 rows\n",
        "arr[1:-1]"
      ],
      "metadata": {
        "colab": {
          "base_uri": "https://localhost:8080/"
        },
        "id": "7bwp5HmZRpLe",
        "outputId": "9733988e-1688-45fe-d1f7-720cf8e9d8fb"
      },
      "execution_count": 52,
      "outputs": [
        {
          "output_type": "execute_result",
          "data": {
            "text/plain": [
              "array([[ 2.19620673,  0.45342783, -1.65687394,  1.41690624],\n",
              "       [-0.77857731, -0.82444922,  0.04737204, -0.48047794]])"
            ]
          },
          "metadata": {},
          "execution_count": 52
        }
      ]
    },
    {
      "cell_type": "code",
      "source": [
        "# access 1st and last rows\n",
        "arr[0::3]"
      ],
      "metadata": {
        "colab": {
          "base_uri": "https://localhost:8080/"
        },
        "id": "BPB3AOiZR5Xq",
        "outputId": "dba2b86f-788f-4857-cfe3-2005c31f355e"
      },
      "execution_count": 53,
      "outputs": [
        {
          "output_type": "execute_result",
          "data": {
            "text/plain": [
              "array([[ 0.5474842 , -1.50995394,  0.80391851,  0.18185326],\n",
              "       [ 0.54506858, -1.14264443,  0.74603469, -1.65686173]])"
            ]
          },
          "metadata": {},
          "execution_count": 53
        }
      ]
    },
    {
      "cell_type": "code",
      "source": [
        "# access 2nd and last row\n",
        "arr[1::2]"
      ],
      "metadata": {
        "colab": {
          "base_uri": "https://localhost:8080/"
        },
        "id": "hjhr_aBpSGdd",
        "outputId": "813087d8-6ba2-4d97-a787-73da5b7be875"
      },
      "execution_count": 55,
      "outputs": [
        {
          "output_type": "execute_result",
          "data": {
            "text/plain": [
              "array([[ 2.19620673,  0.45342783, -1.65687394,  1.41690624],\n",
              "       [ 0.54506858, -1.14264443,  0.74603469, -1.65686173]])"
            ]
          },
          "metadata": {},
          "execution_count": 55
        }
      ]
    },
    {
      "cell_type": "markdown",
      "source": [
        "### Assignment 2:\n",
        "- access corner elements\n",
        "- access diagonal elements\n",
        "- access middle 2 columns and all rows\n",
        "- access last 2 rows and its first 2 values from each row\n",
        "- reverse rows and columns as well"
      ],
      "metadata": {
        "id": "PcapOX7BSlqQ"
      }
    },
    {
      "cell_type": "code",
      "source": [
        "# access corner elements\n",
        "arr[0::3,0::3]"
      ],
      "metadata": {
        "colab": {
          "base_uri": "https://localhost:8080/"
        },
        "id": "ZziBX-VlS-d9",
        "outputId": "d70de029-985d-41a2-dfad-e1cfd9183793"
      },
      "execution_count": 57,
      "outputs": [
        {
          "output_type": "execute_result",
          "data": {
            "text/plain": [
              "array([[ 0.5474842 ,  0.18185326],\n",
              "       [ 0.54506858, -1.65686173]])"
            ]
          },
          "metadata": {},
          "execution_count": 57
        }
      ]
    },
    {
      "cell_type": "code",
      "source": [
        "# access diagonal elements - pythonic way\n",
        "[arr[i][i] for i in range(len(arr))]"
      ],
      "metadata": {
        "colab": {
          "base_uri": "https://localhost:8080/"
        },
        "id": "l62pgU27TdwI",
        "outputId": "4c26269d-6a7d-452a-c0be-5a338a09cb24"
      },
      "execution_count": 68,
      "outputs": [
        {
          "output_type": "execute_result",
          "data": {
            "text/plain": [
              "[0.5474841982156186,\n",
              " 0.4534278328507985,\n",
              " 0.047372044028552274,\n",
              " -1.6568617340139888]"
            ]
          },
          "metadata": {},
          "execution_count": 68
        }
      ]
    },
    {
      "cell_type": "code",
      "source": [
        "# access diagonal elements - numpy way\n",
        "arr.diagonal()"
      ],
      "metadata": {
        "colab": {
          "base_uri": "https://localhost:8080/"
        },
        "id": "ba72o7FvUmDv",
        "outputId": "fd7cd9fa-371b-4186-e8d3-9e1bd558d5e0"
      },
      "execution_count": 70,
      "outputs": [
        {
          "output_type": "execute_result",
          "data": {
            "text/plain": [
              "array([ 0.5474842 ,  0.45342783,  0.04737204, -1.65686173])"
            ]
          },
          "metadata": {},
          "execution_count": 70
        }
      ]
    },
    {
      "cell_type": "markdown",
      "source": [],
      "metadata": {
        "id": "Ye8zpVzxSgW2"
      }
    },
    {
      "cell_type": "code",
      "source": [
        "# access middle 2 columns and all rows\n",
        "arr[:,1:3]"
      ],
      "metadata": {
        "colab": {
          "base_uri": "https://localhost:8080/"
        },
        "id": "ymx_DD04VE-t",
        "outputId": "913c9dd1-37ac-4ea9-e910-d2adabe3d8c3"
      },
      "execution_count": 74,
      "outputs": [
        {
          "output_type": "execute_result",
          "data": {
            "text/plain": [
              "array([[-1.50995394,  0.80391851],\n",
              "       [ 0.45342783, -1.65687394],\n",
              "       [-0.82444922,  0.04737204],\n",
              "       [-1.14264443,  0.74603469]])"
            ]
          },
          "metadata": {},
          "execution_count": 74
        }
      ]
    },
    {
      "cell_type": "code",
      "source": [
        "# access last 2 rows and its first 2 values from each row\n",
        "arr[-2:,:2]"
      ],
      "metadata": {
        "colab": {
          "base_uri": "https://localhost:8080/"
        },
        "id": "66nAA-z6VVEZ",
        "outputId": "4175d924-e707-4532-e68a-f39f3b1907d1"
      },
      "execution_count": 78,
      "outputs": [
        {
          "output_type": "execute_result",
          "data": {
            "text/plain": [
              "array([[-0.77857731, -0.82444922],\n",
              "       [ 0.54506858, -1.14264443]])"
            ]
          },
          "metadata": {},
          "execution_count": 78
        }
      ]
    },
    {
      "cell_type": "code",
      "source": [
        "#  reverse rows and columns as well\n",
        "arr[::-1,::-1]"
      ],
      "metadata": {
        "colab": {
          "base_uri": "https://localhost:8080/"
        },
        "id": "0ztBsLioV3t_",
        "outputId": "a3981940-5afb-47ba-d39e-c1bc6b45173c"
      },
      "execution_count": 79,
      "outputs": [
        {
          "output_type": "execute_result",
          "data": {
            "text/plain": [
              "array([[-1.65686173,  0.74603469, -1.14264443,  0.54506858],\n",
              "       [-0.48047794,  0.04737204, -0.82444922, -0.77857731],\n",
              "       [ 1.41690624, -1.65687394,  0.45342783,  2.19620673],\n",
              "       [ 0.18185326,  0.80391851, -1.50995394,  0.5474842 ]])"
            ]
          },
          "metadata": {},
          "execution_count": 79
        }
      ]
    }
  ]
}