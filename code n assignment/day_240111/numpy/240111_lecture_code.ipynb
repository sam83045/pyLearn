{
  "cells": [
    {
      "cell_type": "code",
      "execution_count": null,
      "id": "61f7fc39",
      "metadata": {
        "id": "61f7fc39"
      },
      "outputs": [],
      "source": [
        "#Structure: np.array(object,dtype)\n"
      ]
    },
    {
      "cell_type": "markdown",
      "id": "cabdf5c3",
      "metadata": {
        "id": "cabdf5c3"
      },
      "source": [
        "# Indexing over numpy array"
      ]
    },
    {
      "cell_type": "code",
      "execution_count": null,
      "id": "360120fe",
      "metadata": {
        "id": "360120fe",
        "outputId": "d94a82ca-3085-4a16-fd06-8d65a595dd46"
      },
      "outputs": [
        {
          "data": {
            "text/plain": [
              "array([[ 0.23848839,  0.72614082, -0.83215345,  0.34967982],\n",
              "       [-0.17822753, -0.69364757, -0.86893848, -0.34948459],\n",
              "       [ 1.60202513,  1.3197055 ,  2.19759204,  0.04234566],\n",
              "       [-1.75304683, -0.66983669,  0.71168002,  1.00625846]])"
            ]
          },
          "execution_count": 3,
          "metadata": {},
          "output_type": "execute_result"
        }
      ],
      "source": [
        "# value ranges -3 to +3\n",
        "import numpy as np\n",
        "a = np.random.randn(4,4)\n",
        "# to check signature of any method\n",
        "a"
      ]
    },
    {
      "cell_type": "code",
      "execution_count": null,
      "id": "38428699",
      "metadata": {
        "id": "38428699",
        "outputId": "fd068a77-3973-4350-dbfc-656450311a02"
      },
      "outputs": [
        {
          "data": {
            "text/plain": [
              "array([ 0.23848839,  0.72614082, -0.83215345,  0.34967982])"
            ]
          },
          "execution_count": 4,
          "metadata": {},
          "output_type": "execute_result"
        }
      ],
      "source": [
        "a[0] #returns 1st row"
      ]
    },
    {
      "cell_type": "code",
      "execution_count": null,
      "id": "7432fea2",
      "metadata": {
        "id": "7432fea2",
        "outputId": "e52d393e-bfc4-4210-cb23-0201028a8b6a"
      },
      "outputs": [
        {
          "data": {
            "text/plain": [
              "array([-1.75304683, -0.66983669,  0.71168002,  1.00625846])"
            ]
          },
          "execution_count": 5,
          "metadata": {},
          "output_type": "execute_result"
        }
      ],
      "source": [
        "# last row\n",
        "a[-1]"
      ]
    },
    {
      "cell_type": "code",
      "execution_count": null,
      "id": "7996d770",
      "metadata": {
        "id": "7996d770",
        "outputId": "6a5d0a59-3cd8-4393-8675-3e185cb254ab"
      },
      "outputs": [
        {
          "data": {
            "text/plain": [
              "array([[ 0.23848839,  0.72614082, -0.83215345,  0.34967982],\n",
              "       [-0.17822753, -0.69364757, -0.86893848, -0.34948459]])"
            ]
          },
          "execution_count": 9,
          "metadata": {},
          "output_type": "execute_result"
        }
      ],
      "source": [
        "# default indexing works on rows and it will return single row\n",
        "# bt if i want multiple rows? then use slicing\n",
        "a[:2] # will return 1st 2 rows"
      ]
    },
    {
      "cell_type": "code",
      "execution_count": null,
      "id": "481e488a",
      "metadata": {
        "id": "481e488a",
        "outputId": "b7ff5b71-f5c7-4b1e-dec2-42e4a759e7bf"
      },
      "outputs": [
        {
          "data": {
            "text/plain": [
              "array([[-1.75304683, -0.66983669,  0.71168002,  1.00625846],\n",
              "       [ 1.60202513,  1.3197055 ,  2.19759204,  0.04234566],\n",
              "       [-0.17822753, -0.69364757, -0.86893848, -0.34948459],\n",
              "       [ 0.23848839,  0.72614082, -0.83215345,  0.34967982]])"
            ]
          },
          "execution_count": 13,
          "metadata": {},
          "output_type": "execute_result"
        }
      ],
      "source": [
        "a[::-1]# reverse rows"
      ]
    },
    {
      "cell_type": "code",
      "execution_count": null,
      "id": "7e13a871",
      "metadata": {
        "id": "7e13a871",
        "outputId": "d8820c60-11ca-4274-a0bc-12b9d1dd7047"
      },
      "outputs": [
        {
          "data": {
            "text/plain": [
              "array([[ 0.23848839,  0.72614082, -0.83215345,  0.34967982],\n",
              "       [-0.17822753, -0.69364757, -0.86893848, -0.34948459],\n",
              "       [ 1.60202513,  1.3197055 ,  2.19759204,  0.04234566],\n",
              "       [-1.75304683, -0.66983669,  0.71168002,  1.00625846]])"
            ]
          },
          "execution_count": 14,
          "metadata": {},
          "output_type": "execute_result"
        }
      ],
      "source": [
        "# 1st and 3rd row\n",
        "a[::2]"
      ]
    },
    {
      "cell_type": "code",
      "execution_count": null,
      "id": "0480d09a",
      "metadata": {
        "id": "0480d09a",
        "outputId": "0c23d110-99b1-4056-e70d-0b3b322fb3a7"
      },
      "outputs": [
        {
          "data": {
            "text/plain": [
              "array([[-0.17822753, -0.69364757, -0.86893848, -0.34948459],\n",
              "       [-1.75304683, -0.66983669,  0.71168002,  1.00625846]])"
            ]
          },
          "execution_count": 15,
          "metadata": {},
          "output_type": "execute_result"
        }
      ],
      "source": [
        "# 2nd and 4th row\n",
        "a[1::2]"
      ]
    },
    {
      "cell_type": "code",
      "execution_count": null,
      "id": "d2f24be3",
      "metadata": {
        "id": "d2f24be3"
      },
      "outputs": [],
      "source": [
        "# Assignmnt:\n",
        "#- acess last 2 rows\n",
        "#- access middle 2 rows\n",
        "# - access 1st and last row\n",
        "# access 2nd and last row\n",
        "# access last 3 rows"
      ]
    },
    {
      "cell_type": "code",
      "execution_count": null,
      "id": "8b2ef5eb",
      "metadata": {
        "id": "8b2ef5eb",
        "outputId": "71de20d0-e0f8-47ea-9f3d-7140a878aa12"
      },
      "outputs": [
        {
          "data": {
            "text/plain": [
              "array([-0.17822753, -0.69364757, -0.86893848, -0.34948459])"
            ]
          },
          "execution_count": 17,
          "metadata": {},
          "output_type": "execute_result"
        }
      ],
      "source": [
        "a[1]"
      ]
    },
    {
      "cell_type": "code",
      "execution_count": null,
      "id": "dc6ece42",
      "metadata": {
        "id": "dc6ece42",
        "outputId": "55211a10-08cc-46a4-908c-586fd2058ca0"
      },
      "outputs": [
        {
          "data": {
            "text/plain": [
              "-0.6936475707646587"
            ]
          },
          "execution_count": 20,
          "metadata": {},
          "output_type": "execute_result"
        }
      ],
      "source": [
        "a[1][1]"
      ]
    },
    {
      "cell_type": "code",
      "execution_count": null,
      "id": "9bd1b924",
      "metadata": {
        "id": "9bd1b924",
        "outputId": "93036b19-4d62-4297-9f18-2c6be17caa43"
      },
      "outputs": [
        {
          "data": {
            "text/plain": [
              "1.0062584605681644"
            ]
          },
          "execution_count": 22,
          "metadata": {},
          "output_type": "execute_result"
        }
      ],
      "source": [
        "a[-1][-1]"
      ]
    },
    {
      "cell_type": "code",
      "execution_count": null,
      "id": "4f96d7d4",
      "metadata": {
        "id": "4f96d7d4"
      },
      "outputs": [],
      "source": [
        "# Numpy array is Mutable\n",
        "# replace 1st element by 0\n",
        "#a[0,0]\n",
        "a[0][0] = 0"
      ]
    },
    {
      "cell_type": "code",
      "execution_count": null,
      "id": "72557874",
      "metadata": {
        "id": "72557874",
        "outputId": "f37e7ebd-1537-40cc-8cdf-1990844ab256"
      },
      "outputs": [
        {
          "data": {
            "text/plain": [
              "array([[ 0.        ,  0.72614082, -0.83215345,  0.34967982],\n",
              "       [-0.17822753, -0.69364757, -0.86893848, -0.34948459],\n",
              "       [ 1.60202513,  1.3197055 ,  2.19759204,  0.04234566],\n",
              "       [-1.75304683, -0.66983669,  0.71168002,  1.00625846]])"
            ]
          },
          "execution_count": 28,
          "metadata": {},
          "output_type": "execute_result"
        }
      ],
      "source": [
        "a"
      ]
    },
    {
      "cell_type": "markdown",
      "id": "c1910abe",
      "metadata": {
        "id": "c1910abe"
      },
      "source": [
        "## work on columns"
      ]
    },
    {
      "cell_type": "code",
      "execution_count": null,
      "id": "ffb53052",
      "metadata": {
        "id": "ffb53052",
        "outputId": "62a90d99-c176-46ef-c92e-e4abb17b5b50"
      },
      "outputs": [
        {
          "data": {
            "text/plain": [
              "array([[ 0.        ,  0.72614082, -0.83215345,  0.34967982],\n",
              "       [-0.17822753, -0.69364757, -0.86893848, -0.34948459],\n",
              "       [ 1.60202513,  1.3197055 ,  2.19759204,  0.04234566],\n",
              "       [-1.75304683, -0.66983669,  0.71168002,  1.00625846]])"
            ]
          },
          "execution_count": 29,
          "metadata": {},
          "output_type": "execute_result"
        }
      ],
      "source": [
        "#a[:] works on rows\n",
        "a[:,:] # [row,column]"
      ]
    },
    {
      "cell_type": "code",
      "execution_count": null,
      "id": "65667bab",
      "metadata": {
        "id": "65667bab",
        "outputId": "91a6e45d-7fc8-4181-803d-7c9ddb6beab0"
      },
      "outputs": [
        {
          "data": {
            "text/plain": [
              "array([[ 0.72614082, -0.83215345,  0.34967982],\n",
              "       [-0.69364757, -0.86893848, -0.34948459],\n",
              "       [ 1.3197055 ,  2.19759204,  0.04234566],\n",
              "       [-0.66983669,  0.71168002,  1.00625846]])"
            ]
          },
          "execution_count": 30,
          "metadata": {},
          "output_type": "execute_result"
        }
      ],
      "source": [
        "a[:,1:]#start reading from column with index 1"
      ]
    },
    {
      "cell_type": "code",
      "execution_count": null,
      "id": "ec3dbcff",
      "metadata": {
        "id": "ec3dbcff",
        "outputId": "adcf9b83-95ce-4cf3-ba84-75e8d84235c4"
      },
      "outputs": [
        {
          "data": {
            "text/plain": [
              "array([[ 0.34967982, -0.83215345,  0.72614082,  0.        ],\n",
              "       [-0.34948459, -0.86893848, -0.69364757, -0.17822753],\n",
              "       [ 0.04234566,  2.19759204,  1.3197055 ,  1.60202513],\n",
              "       [ 1.00625846,  0.71168002, -0.66983669, -1.75304683]])"
            ]
          },
          "execution_count": 31,
          "metadata": {},
          "output_type": "execute_result"
        }
      ],
      "source": [
        "a[:,::-1]"
      ]
    },
    {
      "cell_type": "code",
      "execution_count": null,
      "id": "0fa8a1a7",
      "metadata": {
        "id": "0fa8a1a7",
        "outputId": "391cbce9-4857-4a5f-c55a-caae19ace4a6"
      },
      "outputs": [
        {
          "data": {
            "text/plain": [
              "array([[ 0.72614082, -0.83215345],\n",
              "       [-0.69364757, -0.86893848],\n",
              "       [ 1.3197055 ,  2.19759204],\n",
              "       [-0.66983669,  0.71168002]])"
            ]
          },
          "execution_count": 33,
          "metadata": {},
          "output_type": "execute_result"
        }
      ],
      "source": [
        "a[:,1:3]"
      ]
    },
    {
      "cell_type": "code",
      "execution_count": null,
      "id": "24f9f351",
      "metadata": {
        "id": "24f9f351",
        "outputId": "69a620bc-98ad-458a-df0e-04333b1476a4"
      },
      "outputs": [
        {
          "data": {
            "text/plain": [
              "array([ 0.72614082, -0.69364757,  1.3197055 , -0.66983669])"
            ]
          },
          "execution_count": 35,
          "metadata": {},
          "output_type": "execute_result"
        }
      ],
      "source": [
        "# access single column\n",
        "a[:,1]"
      ]
    },
    {
      "cell_type": "code",
      "execution_count": null,
      "id": "5fad46a2",
      "metadata": {
        "id": "5fad46a2",
        "outputId": "0fc0ceeb-2fc4-4c6c-e55f-a2c5ba575a2d"
      },
      "outputs": [
        {
          "data": {
            "text/plain": [
              "array([ 0.34967982, -0.34948459,  0.04234566,  1.00625846])"
            ]
          },
          "execution_count": 37,
          "metadata": {},
          "output_type": "execute_result"
        }
      ],
      "source": [
        "a[:,-1]"
      ]
    },
    {
      "cell_type": "code",
      "execution_count": null,
      "id": "8292bd3e",
      "metadata": {
        "id": "8292bd3e",
        "outputId": "3ce622a5-b2da-4b30-e769-9240fa0bf544"
      },
      "outputs": [
        {
          "data": {
            "text/plain": [
              "array([[-0.17822753, -0.69364757, -0.86893848, -0.34948459],\n",
              "       [ 1.60202513,  1.3197055 ,  2.19759204,  0.04234566]])"
            ]
          },
          "execution_count": 40,
          "metadata": {},
          "output_type": "execute_result"
        }
      ],
      "source": [
        "a[:][1:3]"
      ]
    },
    {
      "cell_type": "code",
      "execution_count": null,
      "id": "387bbdcb",
      "metadata": {
        "id": "387bbdcb",
        "outputId": "296f27e4-a1a8-4536-95c9-272829044b18"
      },
      "outputs": [
        {
          "data": {
            "text/plain": [
              "array([], shape=(4, 0), dtype=float64)"
            ]
          },
          "execution_count": 42,
          "metadata": {},
          "output_type": "execute_result"
        }
      ],
      "source": [
        "a[:,1000:9] #slicing never gives an error it gives empty output"
      ]
    },
    {
      "cell_type": "code",
      "execution_count": null,
      "id": "b18f5f04",
      "metadata": {
        "id": "b18f5f04",
        "outputId": "d185b44a-7360-488a-a88c-208282015111"
      },
      "outputs": [
        {
          "data": {
            "text/plain": [
              "array([[ 0.        ,  0.72614082, -0.83215345,  0.34967982],\n",
              "       [-0.17822753, -0.69364757, -0.86893848, -0.34948459],\n",
              "       [ 1.60202513,  1.3197055 ,  2.19759204,  0.04234566],\n",
              "       [-1.75304683, -0.66983669,  0.71168002,  1.00625846]])"
            ]
          },
          "execution_count": 43,
          "metadata": {},
          "output_type": "execute_result"
        }
      ],
      "source": [
        "a"
      ]
    },
    {
      "cell_type": "code",
      "execution_count": null,
      "id": "056945fc",
      "metadata": {
        "id": "056945fc",
        "outputId": "fe7027f3-c7f2-420f-bb9f-c8380ff1a227"
      },
      "outputs": [
        {
          "data": {
            "text/plain": [
              "1.319705499806338"
            ]
          },
          "execution_count": 45,
          "metadata": {},
          "output_type": "execute_result"
        }
      ],
      "source": [
        "# select 3rd number from column with index 1\n",
        "a[2,1]"
      ]
    },
    {
      "cell_type": "code",
      "execution_count": null,
      "id": "7de67a41",
      "metadata": {
        "id": "7de67a41",
        "outputId": "a2b300c0-be43-4f6a-d6d7-465efacdd4e6"
      },
      "outputs": [
        {
          "data": {
            "text/plain": [
              "array([1.3197055])"
            ]
          },
          "execution_count": 48,
          "metadata": {},
          "output_type": "execute_result"
        }
      ],
      "source": [
        "a[2:3,1]"
      ]
    },
    {
      "cell_type": "code",
      "execution_count": null,
      "id": "23d2c69e",
      "metadata": {
        "id": "23d2c69e",
        "outputId": "ed10de00-9274-4c56-8f04-3f2dd3f2f3d8"
      },
      "outputs": [
        {
          "data": {
            "text/plain": [
              "array([[ 0.        ,  0.72614082, -0.83215345,  0.34967982],\n",
              "       [-0.17822753, -0.69364757, -0.86893848, -0.34948459],\n",
              "       [ 1.60202513,  1.3197055 ,  2.19759204,  0.04234566],\n",
              "       [-1.75304683, -0.66983669,  0.71168002,  1.00625846]])"
            ]
          },
          "execution_count": 49,
          "metadata": {},
          "output_type": "execute_result"
        }
      ],
      "source": [
        "a"
      ]
    },
    {
      "cell_type": "code",
      "execution_count": null,
      "id": "d196fc43",
      "metadata": {
        "id": "d196fc43"
      },
      "outputs": [],
      "source": [
        "# Assignment:\n",
        "#- access corner elements\n",
        "# access diagonal elements\n",
        "# access middle 2 columns and all rows\n",
        "# access last 2 rows and its first 2 values from each row\n",
        "# reverse rows and columns as well"
      ]
    },
    {
      "cell_type": "code",
      "execution_count": null,
      "id": "6344ad97",
      "metadata": {
        "id": "6344ad97",
        "outputId": "8f8a459d-8740-450a-9f90-bdbcaa440a44"
      },
      "outputs": [
        {
          "name": "stdout",
          "output_type": "stream",
          "text": [
            "['ALLOW_THREADS', 'AxisError', 'BUFSIZE', 'Bytes0', 'CLIP', 'ComplexWarning', 'DataSource', 'Datetime64', 'ERR_CALL', 'ERR_DEFAULT', 'ERR_IGNORE', 'ERR_LOG', 'ERR_PRINT', 'ERR_RAISE', 'ERR_WARN', 'FLOATING_POINT_SUPPORT', 'FPE_DIVIDEBYZERO', 'FPE_INVALID', 'FPE_OVERFLOW', 'FPE_UNDERFLOW', 'False_', 'Inf', 'Infinity', 'MAXDIMS', 'MAY_SHARE_BOUNDS', 'MAY_SHARE_EXACT', 'MachAr', 'ModuleDeprecationWarning', 'NAN', 'NINF', 'NZERO', 'NaN', 'PINF', 'PZERO', 'RAISE', 'RankWarning', 'SHIFT_DIVIDEBYZERO', 'SHIFT_INVALID', 'SHIFT_OVERFLOW', 'SHIFT_UNDERFLOW', 'ScalarType', 'Str0', 'Tester', 'TooHardError', 'True_', 'UFUNC_BUFSIZE_DEFAULT', 'UFUNC_PYVALS_NAME', 'Uint64', 'VisibleDeprecationWarning', 'WRAP', '_NoValue', '_UFUNC_API', '__NUMPY_SETUP__', '__all__', '__builtins__', '__cached__', '__config__', '__deprecated_attrs__', '__dir__', '__doc__', '__expired_functions__', '__file__', '__getattr__', '__git_revision__', '__loader__', '__mkl_version__', '__name__', '__package__', '__path__', '__spec__', '__version__', '_add_newdoc_ufunc', '_distributor_init', '_financial_names', '_globals', '_mat', '_pytesttester', 'abs', 'absolute', 'add', 'add_docstring', 'add_newdoc', 'add_newdoc_ufunc', 'alen', 'all', 'allclose', 'alltrue', 'amax', 'amin', 'angle', 'any', 'append', 'apply_along_axis', 'apply_over_axes', 'arange', 'arccos', 'arccosh', 'arcsin', 'arcsinh', 'arctan', 'arctan2', 'arctanh', 'argmax', 'argmin', 'argpartition', 'argsort', 'argwhere', 'around', 'array', 'array2string', 'array_equal', 'array_equiv', 'array_repr', 'array_split', 'array_str', 'asanyarray', 'asarray', 'asarray_chkfinite', 'ascontiguousarray', 'asfarray', 'asfortranarray', 'asmatrix', 'asscalar', 'atleast_1d', 'atleast_2d', 'atleast_3d', 'average', 'bartlett', 'base_repr', 'binary_repr', 'bincount', 'bitwise_and', 'bitwise_not', 'bitwise_or', 'bitwise_xor', 'blackman', 'block', 'bmat', 'bool8', 'bool_', 'broadcast', 'broadcast_arrays', 'broadcast_shapes', 'broadcast_to', 'busday_count', 'busday_offset', 'busdaycalendar', 'byte', 'byte_bounds', 'bytes0', 'bytes_', 'c_', 'can_cast', 'cast', 'cbrt', 'cdouble', 'ceil', 'cfloat', 'char', 'character', 'chararray', 'choose', 'clip', 'clongdouble', 'clongfloat', 'column_stack', 'common_type', 'compare_chararrays', 'compat', 'complex128', 'complex64', 'complex_', 'complexfloating', 'compress', 'concatenate', 'conj', 'conjugate', 'convolve', 'copy', 'copysign', 'copyto', 'core', 'corrcoef', 'correlate', 'cos', 'cosh', 'count_nonzero', 'cov', 'cross', 'csingle', 'ctypeslib', 'cumprod', 'cumproduct', 'cumsum', 'datetime64', 'datetime_as_string', 'datetime_data', 'deg2rad', 'degrees', 'delete', 'deprecate', 'deprecate_with_doc', 'diag', 'diag_indices', 'diag_indices_from', 'diagflat', 'diagonal', 'diff', 'digitize', 'disp', 'divide', 'divmod', 'dot', 'double', 'dsplit', 'dstack', 'dtype', 'e', 'ediff1d', 'einsum', 'einsum_path', 'emath', 'empty', 'empty_like', 'equal', 'errstate', 'euler_gamma', 'exp', 'exp2', 'expand_dims', 'expm1', 'extract', 'eye', 'fabs', 'fastCopyAndTranspose', 'fft', 'fill_diagonal', 'find_common_type', 'finfo', 'fix', 'flatiter', 'flatnonzero', 'flexible', 'flip', 'fliplr', 'flipud', 'float16', 'float32', 'float64', 'float_', 'float_power', 'floating', 'floor', 'floor_divide', 'fmax', 'fmin', 'fmod', 'format_float_positional', 'format_float_scientific', 'format_parser', 'frexp', 'frombuffer', 'fromfile', 'fromfunction', 'fromiter', 'frompyfunc', 'fromregex', 'fromstring', 'full', 'full_like', 'gcd', 'generic', 'genfromtxt', 'geomspace', 'get_array_wrap', 'get_include', 'get_printoptions', 'getbufsize', 'geterr', 'geterrcall', 'geterrobj', 'gradient', 'greater', 'greater_equal', 'half', 'hamming', 'hanning', 'heaviside', 'histogram', 'histogram2d', 'histogram_bin_edges', 'histogramdd', 'hsplit', 'hstack', 'hypot', 'i0', 'identity', 'iinfo', 'imag', 'in1d', 'index_exp', 'indices', 'inexact', 'inf', 'info', 'infty', 'inner', 'insert', 'int0', 'int16', 'int32', 'int64', 'int8', 'int_', 'intc', 'integer', 'interp', 'intersect1d', 'intp', 'invert', 'is_busday', 'isclose', 'iscomplex', 'iscomplexobj', 'isfinite', 'isfortran', 'isin', 'isinf', 'isnan', 'isnat', 'isneginf', 'isposinf', 'isreal', 'isrealobj', 'isscalar', 'issctype', 'issubclass_', 'issubdtype', 'issubsctype', 'iterable', 'ix_', 'kaiser', 'kron', 'lcm', 'ldexp', 'left_shift', 'less', 'less_equal', 'lexsort', 'lib', 'linalg', 'linspace', 'little_endian', 'load', 'loads', 'loadtxt', 'log', 'log10', 'log1p', 'log2', 'logaddexp', 'logaddexp2', 'logical_and', 'logical_not', 'logical_or', 'logical_xor', 'logspace', 'longcomplex', 'longdouble', 'longfloat', 'longlong', 'lookfor', 'ma', 'mafromtxt', 'mask_indices', 'mat', 'math', 'matmul', 'matrix', 'matrixlib', 'max', 'maximum', 'maximum_sctype', 'may_share_memory', 'mean', 'median', 'memmap', 'meshgrid', 'mgrid', 'min', 'min_scalar_type', 'minimum', 'mintypecode', 'mkl', 'mod', 'modf', 'moveaxis', 'msort', 'multiply', 'nan', 'nan_to_num', 'nanargmax', 'nanargmin', 'nancumprod', 'nancumsum', 'nanmax', 'nanmean', 'nanmedian', 'nanmin', 'nanpercentile', 'nanprod', 'nanquantile', 'nanstd', 'nansum', 'nanvar', 'nbytes', 'ndarray', 'ndenumerate', 'ndfromtxt', 'ndim', 'ndindex', 'nditer', 'negative', 'nested_iters', 'newaxis', 'nextafter', 'nonzero', 'not_equal', 'numarray', 'number', 'obj2sctype', 'object0', 'object_', 'ogrid', 'oldnumeric', 'ones', 'ones_like', 'os', 'outer', 'packbits', 'pad', 'partition', 'percentile', 'pi', 'piecewise', 'place', 'poly', 'poly1d', 'polyadd', 'polyder', 'polydiv', 'polyfit', 'polyint', 'polymul', 'polynomial', 'polysub', 'polyval', 'positive', 'power', 'printoptions', 'prod', 'product', 'promote_types', 'ptp', 'put', 'put_along_axis', 'putmask', 'quantile', 'r_', 'rad2deg', 'radians', 'random', 'ravel', 'ravel_multi_index', 'real', 'real_if_close', 'rec', 'recarray', 'recfromcsv', 'recfromtxt', 'reciprocal', 'record', 'remainder', 'repeat', 'require', 'reshape', 'resize', 'result_type', 'right_shift', 'rint', 'roll', 'rollaxis', 'roots', 'rot90', 'round', 'round_', 'row_stack', 's_', 'safe_eval', 'save', 'savetxt', 'savez', 'savez_compressed', 'sctype2char', 'sctypeDict', 'sctypes', 'searchsorted', 'select', 'set_numeric_ops', 'set_printoptions', 'set_string_function', 'setbufsize', 'setdiff1d', 'seterr', 'seterrcall', 'seterrobj', 'setxor1d', 'shape', 'shares_memory', 'short', 'show_config', 'sign', 'signbit', 'signedinteger', 'sin', 'sinc', 'single', 'singlecomplex', 'sinh', 'size', 'sometrue', 'sort', 'sort_complex', 'source', 'spacing', 'split', 'sqrt', 'square', 'squeeze', 'stack', 'std', 'str0', 'str_', 'string_', 'subtract', 'sum', 'swapaxes', 'sys', 'take', 'take_along_axis', 'tan', 'tanh', 'tensordot', 'test', 'testing', 'tile', 'timedelta64', 'trace', 'tracemalloc_domain', 'transpose', 'trapz', 'tri', 'tril', 'tril_indices', 'tril_indices_from', 'trim_zeros', 'triu', 'triu_indices', 'triu_indices_from', 'true_divide', 'trunc', 'typeDict', 'typecodes', 'typename', 'ubyte', 'ufunc', 'uint', 'uint0', 'uint16', 'uint32', 'uint64', 'uint8', 'uintc', 'uintp', 'ulonglong', 'unicode_', 'union1d', 'unique', 'unpackbits', 'unravel_index', 'unsignedinteger', 'unwrap', 'use_hugepage', 'ushort', 'vander', 'var', 'vdot', 'vectorize', 'version', 'void', 'void0', 'vsplit', 'vstack', 'warnings', 'where', 'who', 'zeros', 'zeros_like']\n"
          ]
        }
      ],
      "source": [
        "# to check structure of Numpy\n",
        "print(dir(np))"
      ]
    },
    {
      "cell_type": "code",
      "execution_count": null,
      "id": "9b6deb31",
      "metadata": {
        "id": "9b6deb31"
      },
      "outputs": [],
      "source": [
        "# check info of any method\n",
        "np.unique?"
      ]
    },
    {
      "cell_type": "code",
      "execution_count": null,
      "id": "bf4a2fc0",
      "metadata": {
        "id": "bf4a2fc0",
        "outputId": "c2f5f171-c505-4e02-e754-7f91718b5873"
      },
      "outputs": [
        {
          "name": "stdout",
          "output_type": "stream",
          "text": [
            " unique(ar, return_index=False, return_inverse=False, return_counts=False,\n",
            "        axis=None)\n",
            "\n",
            "Find the unique elements of an array.\n",
            "\n",
            "Returns the sorted unique elements of an array. There are three optional\n",
            "outputs in addition to the unique elements:\n",
            "\n",
            "* the indices of the input array that give the unique values\n",
            "* the indices of the unique array that reconstruct the input array\n",
            "* the number of times each unique value comes up in the input array\n",
            "\n",
            "Parameters\n",
            "----------\n",
            "ar : array_like\n",
            "    Input array. Unless `axis` is specified, this will be flattened if it\n",
            "    is not already 1-D.\n",
            "return_index : bool, optional\n",
            "    If True, also return the indices of `ar` (along the specified axis,\n",
            "    if provided, or in the flattened array) that result in the unique array.\n",
            "return_inverse : bool, optional\n",
            "    If True, also return the indices of the unique array (for the specified\n",
            "    axis, if provided) that can be used to reconstruct `ar`.\n",
            "return_counts : bool, optional\n",
            "    If True, also return the number of times each unique item appears\n",
            "    in `ar`.\n",
            "\n",
            "    .. versionadded:: 1.9.0\n",
            "\n",
            "axis : int or None, optional\n",
            "    The axis to operate on. If None, `ar` will be flattened. If an integer,\n",
            "    the subarrays indexed by the given axis will be flattened and treated\n",
            "    as the elements of a 1-D array with the dimension of the given axis,\n",
            "    see the notes for more details.  Object arrays or structured arrays\n",
            "    that contain objects are not supported if the `axis` kwarg is used. The\n",
            "    default is None.\n",
            "\n",
            "    .. versionadded:: 1.13.0\n",
            "\n",
            "Returns\n",
            "-------\n",
            "unique : ndarray\n",
            "    The sorted unique values.\n",
            "unique_indices : ndarray, optional\n",
            "    The indices of the first occurrences of the unique values in the\n",
            "    original array. Only provided if `return_index` is True.\n",
            "unique_inverse : ndarray, optional\n",
            "    The indices to reconstruct the original array from the\n",
            "    unique array. Only provided if `return_inverse` is True.\n",
            "unique_counts : ndarray, optional\n",
            "    The number of times each of the unique values comes up in the\n",
            "    original array. Only provided if `return_counts` is True.\n",
            "\n",
            "    .. versionadded:: 1.9.0\n",
            "\n",
            "See Also\n",
            "--------\n",
            "numpy.lib.arraysetops : Module with a number of other functions for\n",
            "                        performing set operations on arrays.\n",
            "repeat : Repeat elements of an array.\n",
            "\n",
            "Notes\n",
            "-----\n",
            "When an axis is specified the subarrays indexed by the axis are sorted.\n",
            "This is done by making the specified axis the first dimension of the array\n",
            "(move the axis to the first dimension to keep the order of the other axes)\n",
            "and then flattening the subarrays in C order. The flattened subarrays are\n",
            "then viewed as a structured type with each element given a label, with the\n",
            "effect that we end up with a 1-D array of structured types that can be\n",
            "treated in the same way as any other 1-D array. The result is that the\n",
            "flattened subarrays are sorted in lexicographic order starting with the\n",
            "first element.\n",
            "\n",
            "Examples\n",
            "--------\n",
            ">>> np.unique([1, 1, 2, 2, 3, 3])\n",
            "array([1, 2, 3])\n",
            ">>> a = np.array([[1, 1], [2, 3]])\n",
            ">>> np.unique(a)\n",
            "array([1, 2, 3])\n",
            "\n",
            "Return the unique rows of a 2D array\n",
            "\n",
            ">>> a = np.array([[1, 0, 0], [1, 0, 0], [2, 3, 4]])\n",
            ">>> np.unique(a, axis=0)\n",
            "array([[1, 0, 0], [2, 3, 4]])\n",
            "\n",
            "Return the indices of the original array that give the unique values:\n",
            "\n",
            ">>> a = np.array(['a', 'b', 'b', 'c', 'a'])\n",
            ">>> u, indices = np.unique(a, return_index=True)\n",
            ">>> u\n",
            "array(['a', 'b', 'c'], dtype='<U1')\n",
            ">>> indices\n",
            "array([0, 1, 3])\n",
            ">>> a[indices]\n",
            "array(['a', 'b', 'c'], dtype='<U1')\n",
            "\n",
            "Reconstruct the input array from the unique values and inverse:\n",
            "\n",
            ">>> a = np.array([1, 2, 6, 4, 2, 3, 2])\n",
            ">>> u, indices = np.unique(a, return_inverse=True)\n",
            ">>> u\n",
            "array([1, 2, 3, 4, 6])\n",
            ">>> indices\n",
            "array([0, 1, 4, 3, 1, 2, 1])\n",
            ">>> u[indices]\n",
            "array([1, 2, 6, 4, 2, 3, 2])\n",
            "\n",
            "Reconstruct the input values from the unique values and counts:\n",
            "\n",
            ">>> a = np.array([1, 2, 6, 4, 2, 3, 2])\n",
            ">>> values, counts = np.unique(a, return_counts=True)\n",
            ">>> values\n",
            "array([1, 2, 3, 4, 6])\n",
            ">>> counts\n",
            "array([1, 3, 1, 1, 1])\n",
            ">>> np.repeat(values, counts)\n",
            "array([1, 2, 2, 2, 3, 4, 6])    # original order not preserved\n"
          ]
        }
      ],
      "source": [
        "np.info(np.unique)"
      ]
    },
    {
      "cell_type": "markdown",
      "id": "22b1bf6f",
      "metadata": {
        "id": "22b1bf6f"
      },
      "source": [
        "## Shape Manipulation"
      ]
    },
    {
      "cell_type": "code",
      "execution_count": null,
      "id": "8f8b9923",
      "metadata": {
        "id": "8f8b9923",
        "outputId": "fe742d43-121d-4e12-d50f-fd320c447988"
      },
      "outputs": [
        {
          "data": {
            "text/plain": [
              "array([[ 0.        ,  0.72614082, -0.83215345,  0.34967982],\n",
              "       [-0.17822753, -0.69364757, -0.86893848, -0.34948459],\n",
              "       [ 1.60202513,  1.3197055 ,  2.19759204,  0.04234566],\n",
              "       [-1.75304683, -0.66983669,  0.71168002,  1.00625846]])"
            ]
          },
          "execution_count": 53,
          "metadata": {},
          "output_type": "execute_result"
        }
      ],
      "source": [
        "a"
      ]
    },
    {
      "cell_type": "code",
      "execution_count": null,
      "id": "b2fff141",
      "metadata": {
        "id": "b2fff141",
        "outputId": "94a2d2dc-fe01-4f33-ebb5-b6a201b0e0de"
      },
      "outputs": [
        {
          "data": {
            "text/plain": [
              "(4, 4)"
            ]
          },
          "execution_count": 54,
          "metadata": {},
          "output_type": "execute_result"
        }
      ],
      "source": [
        "a.shape"
      ]
    },
    {
      "cell_type": "code",
      "execution_count": null,
      "id": "6bd84d21",
      "metadata": {
        "id": "6bd84d21",
        "outputId": "50f8bf93-87e7-4ded-8fda-b9a663b89634"
      },
      "outputs": [
        {
          "data": {
            "text/plain": [
              "2"
            ]
          },
          "execution_count": 55,
          "metadata": {},
          "output_type": "execute_result"
        }
      ],
      "source": [
        "a.ndim"
      ]
    },
    {
      "cell_type": "code",
      "execution_count": null,
      "id": "4266cee8",
      "metadata": {
        "id": "4266cee8",
        "outputId": "42664de8-0378-48fa-9f8e-4359f272ddcf"
      },
      "outputs": [
        {
          "data": {
            "text/plain": [
              "array([ 0.        ,  0.72614082, -0.83215345,  0.34967982, -0.17822753,\n",
              "       -0.69364757, -0.86893848, -0.34948459,  1.60202513,  1.3197055 ,\n",
              "        2.19759204,  0.04234566, -1.75304683, -0.66983669,  0.71168002,\n",
              "        1.00625846])"
            ]
          },
          "execution_count": 56,
          "metadata": {},
          "output_type": "execute_result"
        }
      ],
      "source": [
        "# np.ravel(): converts any dim array to 1D (temp.)\n",
        "np.ravel(a)"
      ]
    },
    {
      "cell_type": "code",
      "execution_count": null,
      "id": "23369eb0",
      "metadata": {
        "id": "23369eb0",
        "outputId": "b812bfc2-2816-4e1b-e4d0-a74ce544954a"
      },
      "outputs": [
        {
          "data": {
            "text/plain": [
              "array([[ 0.        ,  0.72614082, -0.83215345,  0.34967982],\n",
              "       [-0.17822753, -0.69364757, -0.86893848, -0.34948459],\n",
              "       [ 1.60202513,  1.3197055 ,  2.19759204,  0.04234566],\n",
              "       [-1.75304683, -0.66983669,  0.71168002,  1.00625846]])"
            ]
          },
          "execution_count": 57,
          "metadata": {},
          "output_type": "execute_result"
        }
      ],
      "source": [
        "a"
      ]
    },
    {
      "cell_type": "code",
      "execution_count": null,
      "id": "addd8817",
      "metadata": {
        "id": "addd8817"
      },
      "outputs": [],
      "source": [
        "#np.resize:it converts an array into any dimension: Parmenently\n",
        "# in a we have 4x4 means 16 numbers\n",
        "a.resize(16) # will conveert into 1D"
      ]
    },
    {
      "cell_type": "code",
      "execution_count": null,
      "id": "38e976da",
      "metadata": {
        "id": "38e976da",
        "outputId": "cac660fa-f7c6-4ecb-b05e-4f34ecaba4ec"
      },
      "outputs": [
        {
          "data": {
            "text/plain": [
              "array([ 0.        ,  0.72614082, -0.83215345,  0.34967982, -0.17822753,\n",
              "       -0.69364757, -0.86893848, -0.34948459,  1.60202513,  1.3197055 ,\n",
              "        2.19759204,  0.04234566, -1.75304683, -0.66983669,  0.71168002,\n",
              "        1.00625846])"
            ]
          },
          "execution_count": 60,
          "metadata": {},
          "output_type": "execute_result"
        }
      ],
      "source": [
        "a"
      ]
    },
    {
      "cell_type": "code",
      "execution_count": null,
      "id": "b006ef9a",
      "metadata": {
        "id": "b006ef9a",
        "outputId": "aee838a1-e60b-475b-cf30-eca0934f5c34"
      },
      "outputs": [
        {
          "data": {
            "text/plain": [
              "1"
            ]
          },
          "execution_count": 61,
          "metadata": {},
          "output_type": "execute_result"
        }
      ],
      "source": [
        "a.ndim"
      ]
    },
    {
      "cell_type": "code",
      "execution_count": null,
      "id": "51e86b45",
      "metadata": {
        "id": "51e86b45"
      },
      "outputs": [],
      "source": [
        "# convert to 3D\n",
        "a.resize(2,4,2)"
      ]
    },
    {
      "cell_type": "code",
      "execution_count": null,
      "id": "0139444b",
      "metadata": {
        "id": "0139444b",
        "outputId": "b808eaf8-0299-49cc-e9d0-5e31665457ea"
      },
      "outputs": [
        {
          "data": {
            "text/plain": [
              "array([[[ 0.        ,  0.72614082],\n",
              "        [-0.83215345,  0.34967982],\n",
              "        [-0.17822753, -0.69364757],\n",
              "        [-0.86893848, -0.34948459]],\n",
              "\n",
              "       [[ 1.60202513,  1.3197055 ],\n",
              "        [ 2.19759204,  0.04234566],\n",
              "        [-1.75304683, -0.66983669],\n",
              "        [ 0.71168002,  1.00625846]]])"
            ]
          },
          "execution_count": 67,
          "metadata": {},
          "output_type": "execute_result"
        }
      ],
      "source": [
        "a"
      ]
    },
    {
      "cell_type": "code",
      "execution_count": null,
      "id": "e9ce4cd8",
      "metadata": {
        "id": "e9ce4cd8",
        "outputId": "a4376886-f5c8-46d5-ad7a-9777c295c7e1"
      },
      "outputs": [
        {
          "data": {
            "text/plain": [
              "3"
            ]
          },
          "execution_count": 64,
          "metadata": {},
          "output_type": "execute_result"
        }
      ],
      "source": [
        "a.ndim"
      ]
    },
    {
      "cell_type": "code",
      "execution_count": null,
      "id": "76561a7a",
      "metadata": {
        "id": "76561a7a",
        "outputId": "170876ac-2668-42f0-c39c-ec7c0c903cb3"
      },
      "outputs": [
        {
          "data": {
            "text/plain": [
              "(2, 4, 2)"
            ]
          },
          "execution_count": 69,
          "metadata": {},
          "output_type": "execute_result"
        }
      ],
      "source": [
        "# np.reshape: converts an array from any dim to any dim(temp.)\n",
        "a.shape"
      ]
    },
    {
      "cell_type": "code",
      "execution_count": null,
      "id": "91fc6459",
      "metadata": {
        "id": "91fc6459",
        "outputId": "69435bf5-b9f8-4288-f62d-dcaf4fa0a1a2"
      },
      "outputs": [
        {
          "data": {
            "text/plain": [
              "array([[ 0.        ,  0.72614082, -0.83215345,  0.34967982, -0.17822753,\n",
              "        -0.69364757, -0.86893848, -0.34948459],\n",
              "       [ 1.60202513,  1.3197055 ,  2.19759204,  0.04234566, -1.75304683,\n",
              "        -0.66983669,  0.71168002,  1.00625846]])"
            ]
          },
          "execution_count": 70,
          "metadata": {},
          "output_type": "execute_result"
        }
      ],
      "source": [
        "a.reshape(2,8)"
      ]
    },
    {
      "cell_type": "code",
      "execution_count": null,
      "id": "f2c0c29d",
      "metadata": {
        "id": "f2c0c29d",
        "outputId": "4f21a686-55eb-44a8-c93f-20ba44b2efc3"
      },
      "outputs": [
        {
          "data": {
            "text/plain": [
              "(2, 4, 2)"
            ]
          },
          "execution_count": 71,
          "metadata": {},
          "output_type": "execute_result"
        }
      ],
      "source": [
        "a.shape"
      ]
    },
    {
      "cell_type": "code",
      "execution_count": null,
      "id": "24feedbd",
      "metadata": {
        "id": "24feedbd",
        "outputId": "447b6d61-84b3-4e4e-cf9c-f0e78e24ad40"
      },
      "outputs": [
        {
          "data": {
            "text/plain": [
              "array([[[ 0.        ,  0.72614082],\n",
              "        [-0.83215345,  0.34967982]],\n",
              "\n",
              "       [[-0.17822753, -0.69364757],\n",
              "        [-0.86893848, -0.34948459]],\n",
              "\n",
              "       [[ 1.60202513,  1.3197055 ],\n",
              "        [ 2.19759204,  0.04234566]],\n",
              "\n",
              "       [[-1.75304683, -0.66983669],\n",
              "        [ 0.71168002,  1.00625846]]])"
            ]
          },
          "execution_count": 72,
          "metadata": {},
          "output_type": "execute_result"
        }
      ],
      "source": [
        "a.reshape(4,2,2)"
      ]
    },
    {
      "cell_type": "code",
      "execution_count": null,
      "id": "6a637f4e",
      "metadata": {
        "id": "6a637f4e",
        "outputId": "872502cd-1c19-488f-93fd-03fd50149fc5"
      },
      "outputs": [
        {
          "data": {
            "text/plain": [
              "array([[[ 0.        ,  0.72614082],\n",
              "        [-0.83215345,  0.34967982],\n",
              "        [-0.17822753, -0.69364757],\n",
              "        [-0.86893848, -0.34948459]],\n",
              "\n",
              "       [[ 1.60202513,  1.3197055 ],\n",
              "        [ 2.19759204,  0.04234566],\n",
              "        [-1.75304683, -0.66983669],\n",
              "        [ 0.71168002,  1.00625846]]])"
            ]
          },
          "execution_count": 73,
          "metadata": {},
          "output_type": "execute_result"
        }
      ],
      "source": [
        "a #so original array nt changed"
      ]
    },
    {
      "cell_type": "code",
      "execution_count": null,
      "id": "0e769902",
      "metadata": {
        "id": "0e769902",
        "outputId": "13139021-1afc-4a83-c62f-4f97340a6e99"
      },
      "outputs": [
        {
          "data": {
            "text/plain": [
              "array([[[ 0.        ,  0.72614082, -0.83215345,  0.34967982,\n",
              "         -0.17822753, -0.69364757, -0.86893848, -0.34948459]],\n",
              "\n",
              "       [[ 1.60202513,  1.3197055 ,  2.19759204,  0.04234566,\n",
              "         -1.75304683, -0.66983669,  0.71168002,  1.00625846]]])"
            ]
          },
          "execution_count": 74,
          "metadata": {},
          "output_type": "execute_result"
        }
      ],
      "source": [
        "a.reshape(2,1,8)"
      ]
    },
    {
      "cell_type": "code",
      "execution_count": null,
      "id": "59f78f39",
      "metadata": {
        "id": "59f78f39",
        "outputId": "38ab677b-a3a5-411a-d2b1-1f8dc49359f8"
      },
      "outputs": [
        {
          "data": {
            "text/plain": [
              "(2, 4, 2)"
            ]
          },
          "execution_count": 75,
          "metadata": {},
          "output_type": "execute_result"
        }
      ],
      "source": [
        "a.shape"
      ]
    },
    {
      "cell_type": "code",
      "execution_count": null,
      "id": "3efddc1d",
      "metadata": {
        "id": "3efddc1d"
      },
      "outputs": [],
      "source": [
        "# Q. reshape(temp) vs resize(parmanent)"
      ]
    },
    {
      "cell_type": "code",
      "execution_count": null,
      "id": "84bbeffb",
      "metadata": {
        "id": "84bbeffb",
        "outputId": "b30c1a2c-fc02-47d1-9c12-4aea2ade1c73"
      },
      "outputs": [
        {
          "data": {
            "text/plain": [
              "array([[[ 0.        ,  0.72614082],\n",
              "        [-0.83215345,  0.34967982],\n",
              "        [-0.17822753, -0.69364757],\n",
              "        [-0.86893848, -0.34948459]],\n",
              "\n",
              "       [[ 1.60202513,  1.3197055 ],\n",
              "        [ 2.19759204,  0.04234566],\n",
              "        [-1.75304683, -0.66983669],\n",
              "        [ 0.71168002,  1.00625846]]])"
            ]
          },
          "execution_count": 77,
          "metadata": {},
          "output_type": "execute_result"
        }
      ],
      "source": [
        "# transpose: converting rows to columns and vice-versa\n",
        "a"
      ]
    },
    {
      "cell_type": "code",
      "execution_count": null,
      "id": "348d5c58",
      "metadata": {
        "id": "348d5c58",
        "outputId": "a7509d01-fe0f-43ee-d8b7-3521a7784fe3"
      },
      "outputs": [
        {
          "data": {
            "text/plain": [
              "array([[[ 0.        ,  1.60202513],\n",
              "        [-0.83215345,  2.19759204],\n",
              "        [-0.17822753, -1.75304683],\n",
              "        [-0.86893848,  0.71168002]],\n",
              "\n",
              "       [[ 0.72614082,  1.3197055 ],\n",
              "        [ 0.34967982,  0.04234566],\n",
              "        [-0.69364757, -0.66983669],\n",
              "        [-0.34948459,  1.00625846]]])"
            ]
          },
          "execution_count": 78,
          "metadata": {},
          "output_type": "execute_result"
        }
      ],
      "source": [
        "a.T"
      ]
    },
    {
      "cell_type": "code",
      "execution_count": null,
      "id": "434db2e7",
      "metadata": {
        "id": "434db2e7",
        "outputId": "17d52ca7-a9dc-4a9c-ea44-67cfde12b802"
      },
      "outputs": [
        {
          "data": {
            "text/plain": [
              "array([[1, 2, 3],\n",
              "       [3, 4, 5]])"
            ]
          },
          "execution_count": 79,
          "metadata": {},
          "output_type": "execute_result"
        }
      ],
      "source": [
        "b = np.array([[1,2,3],[3,4,5]])\n",
        "b"
      ]
    },
    {
      "cell_type": "code",
      "execution_count": null,
      "id": "b9be48d2",
      "metadata": {
        "id": "b9be48d2",
        "outputId": "ebc92a2c-8176-420b-e601-5f8c5f9a9491"
      },
      "outputs": [
        {
          "data": {
            "text/plain": [
              "array([[1, 3],\n",
              "       [2, 4],\n",
              "       [3, 5]])"
            ]
          },
          "execution_count": 80,
          "metadata": {},
          "output_type": "execute_result"
        }
      ],
      "source": [
        "b.T"
      ]
    },
    {
      "cell_type": "code",
      "execution_count": null,
      "id": "2839f81e",
      "metadata": {
        "id": "2839f81e",
        "outputId": "d202b1be-fcb7-48fc-91b4-4226a25b99bb"
      },
      "outputs": [
        {
          "data": {
            "text/plain": [
              "array([[1, 3],\n",
              "       [2, 4],\n",
              "       [3, 5]])"
            ]
          },
          "execution_count": 81,
          "metadata": {},
          "output_type": "execute_result"
        }
      ],
      "source": [
        "np.transpose(b)"
      ]
    },
    {
      "cell_type": "raw",
      "id": "8d9049c5",
      "metadata": {
        "id": "8d9049c5"
      },
      "source": [
        "# np.transpose and .T both are temp. operations"
      ]
    },
    {
      "cell_type": "code",
      "execution_count": null,
      "id": "5cad4d83",
      "metadata": {
        "id": "5cad4d83"
      },
      "outputs": [],
      "source": []
    }
  ],
  "metadata": {
    "kernelspec": {
      "display_name": "Python 3 (ipykernel)",
      "language": "python",
      "name": "python3"
    },
    "language_info": {
      "codemirror_mode": {
        "name": "ipython",
        "version": 3
      },
      "file_extension": ".py",
      "mimetype": "text/x-python",
      "name": "python",
      "nbconvert_exporter": "python",
      "pygments_lexer": "ipython3",
      "version": "3.9.7"
    },
    "colab": {
      "provenance": []
    }
  },
  "nbformat": 4,
  "nbformat_minor": 5
}