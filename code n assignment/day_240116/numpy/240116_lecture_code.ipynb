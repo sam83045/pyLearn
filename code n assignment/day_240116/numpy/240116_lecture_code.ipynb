{
  "cells": [
    {
      "cell_type": "code",
      "execution_count": null,
      "id": "2e4ee162",
      "metadata": {
        "id": "2e4ee162"
      },
      "outputs": [],
      "source": [
        "import numpy as np"
      ]
    },
    {
      "cell_type": "markdown",
      "id": "3bd92b30",
      "metadata": {
        "id": "3bd92b30"
      },
      "source": [
        "# Inspecting the properties"
      ]
    },
    {
      "cell_type": "code",
      "execution_count": null,
      "id": "31cf4111",
      "metadata": {
        "id": "31cf4111",
        "outputId": "0190c8a1-0667-4375-904b-a00197be8ec8"
      },
      "outputs": [
        {
          "data": {
            "text/plain": [
              "array([[0.99501191, 0.58341584, 0.42644985, 0.02453146],\n",
              "       [0.17168555, 0.31834066, 0.83391507, 0.88131115],\n",
              "       [0.48989816, 0.59542437, 0.19719592, 0.8464649 ]])"
            ]
          },
          "execution_count": 2,
          "metadata": {},
          "output_type": "execute_result"
        }
      ],
      "source": [
        "a = np.random.random((3,4))\n",
        "a"
      ]
    },
    {
      "cell_type": "code",
      "execution_count": null,
      "id": "4a62e826",
      "metadata": {
        "id": "4a62e826",
        "outputId": "e04a56bf-06f0-4666-bc70-24471d9b31f3"
      },
      "outputs": [
        {
          "data": {
            "text/plain": [
              "(3, 4)"
            ]
          },
          "execution_count": 3,
          "metadata": {},
          "output_type": "execute_result"
        }
      ],
      "source": [
        "# check rows and columns\n",
        "a.shape #2D:(row,column)"
      ]
    },
    {
      "cell_type": "code",
      "execution_count": null,
      "id": "647fc4cb",
      "metadata": {
        "id": "647fc4cb",
        "outputId": "ea838c40-0f22-4aec-f654-240bbc1f76a9"
      },
      "outputs": [
        {
          "data": {
            "text/plain": [
              "12"
            ]
          },
          "execution_count": 4,
          "metadata": {},
          "output_type": "execute_result"
        }
      ],
      "source": [
        "# total elements in array\n",
        "a.size"
      ]
    },
    {
      "cell_type": "code",
      "execution_count": null,
      "id": "50e7dbdd",
      "metadata": {
        "id": "50e7dbdd",
        "outputId": "590ff3ea-394a-43cb-ca4c-3d214c2085f5"
      },
      "outputs": [
        {
          "data": {
            "text/plain": [
              "3"
            ]
          },
          "execution_count": 5,
          "metadata": {},
          "output_type": "execute_result"
        }
      ],
      "source": [
        "len(a) # as a is 2D hence it returns no. of rows"
      ]
    },
    {
      "cell_type": "code",
      "execution_count": null,
      "id": "b1d2354a",
      "metadata": {
        "id": "b1d2354a",
        "outputId": "1ccad197-6067-4495-d1c3-bd3c83d97df8"
      },
      "outputs": [
        {
          "data": {
            "text/plain": [
              "12"
            ]
          },
          "execution_count": 6,
          "metadata": {},
          "output_type": "execute_result"
        }
      ],
      "source": [
        "len(a.ravel())"
      ]
    },
    {
      "cell_type": "code",
      "execution_count": null,
      "id": "a803f278",
      "metadata": {
        "id": "a803f278",
        "outputId": "2ff9ff72-9e4f-45dd-fb7e-34391162691a"
      },
      "outputs": [
        {
          "data": {
            "text/plain": [
              "dtype('float64')"
            ]
          },
          "execution_count": 7,
          "metadata": {},
          "output_type": "execute_result"
        }
      ],
      "source": [
        "# check data type\n",
        "a.dtype"
      ]
    },
    {
      "cell_type": "code",
      "execution_count": null,
      "id": "4b3c649e",
      "metadata": {
        "id": "4b3c649e",
        "outputId": "f67aad35-9fe6-4207-bc63-2b24f14ef19f"
      },
      "outputs": [
        {
          "data": {
            "text/plain": [
              "2"
            ]
          },
          "execution_count": 8,
          "metadata": {},
          "output_type": "execute_result"
        }
      ],
      "source": [
        "# check dimension\n",
        "a.ndim"
      ]
    },
    {
      "cell_type": "code",
      "execution_count": null,
      "id": "1bdfbe78",
      "metadata": {
        "id": "1bdfbe78",
        "outputId": "beae798f-1168-4ae9-cfa3-78ec80d79d7b"
      },
      "outputs": [
        {
          "data": {
            "text/plain": [
              "array([[0, 0, 0, 0],\n",
              "       [0, 0, 0, 0],\n",
              "       [0, 0, 0, 0]])"
            ]
          },
          "execution_count": 10,
          "metadata": {},
          "output_type": "execute_result"
        }
      ],
      "source": [
        "# if array is already create and we want to change data type\n",
        "# use astype(dtype)\n",
        "a.astype(int) # temp"
      ]
    },
    {
      "cell_type": "code",
      "execution_count": null,
      "id": "7ea9ccf1",
      "metadata": {
        "id": "7ea9ccf1",
        "outputId": "0591abe6-38f8-4284-f906-5c6e67dd4ec5"
      },
      "outputs": [
        {
          "data": {
            "text/plain": [
              "array([['0.9950119110271972', '0.5834158354084847', '0.4264498451285985',\n",
              "        '0.024531459951409484'],\n",
              "       ['0.17168554693805138', '0.318340660227591', '0.8339150661099732',\n",
              "        '0.8813111486416202'],\n",
              "       ['0.489898158468845', '0.5954243742970804', '0.19719591677154136',\n",
              "        '0.8464649026364188']], dtype='<U32')"
            ]
          },
          "execution_count": 12,
          "metadata": {},
          "output_type": "execute_result"
        }
      ],
      "source": [
        "# conver into str\n",
        "a.astype(str)"
      ]
    },
    {
      "cell_type": "raw",
      "id": "9fb3d8bb",
      "metadata": {
        "id": "9fb3d8bb"
      },
      "source": [
        "#Basic Data types we can use in astype: int,float complet str object"
      ]
    },
    {
      "cell_type": "code",
      "execution_count": null,
      "id": "5082b439",
      "metadata": {
        "id": "5082b439",
        "outputId": "547c5d84-72a2-4f4a-e7fc-b71c42b5e0ee"
      },
      "outputs": [
        {
          "data": {
            "text/plain": [
              "[[0.9950119110271972,\n",
              "  0.5834158354084847,\n",
              "  0.4264498451285985,\n",
              "  0.024531459951409484],\n",
              " [0.17168554693805138,\n",
              "  0.318340660227591,\n",
              "  0.8339150661099732,\n",
              "  0.8813111486416202],\n",
              " [0.489898158468845,\n",
              "  0.5954243742970804,\n",
              "  0.19719591677154136,\n",
              "  0.8464649026364188]]"
            ]
          },
          "execution_count": 13,
          "metadata": {},
          "output_type": "execute_result"
        }
      ],
      "source": [
        "# COnvert an array to list\n",
        "a.tolist()"
      ]
    },
    {
      "cell_type": "code",
      "execution_count": null,
      "id": "ada167ec",
      "metadata": {
        "scrolled": true,
        "id": "ada167ec",
        "outputId": "cbf9b4cf-e63f-461f-bb05-8d562791f62d"
      },
      "outputs": [
        {
          "ename": "ValueError",
          "evalue": "dictionary update sequence element #0 has length 4; 2 is required",
          "output_type": "error",
          "traceback": [
            "\u001b[1;31m---------------------------------------------------------------------------\u001b[0m",
            "\u001b[1;31mValueError\u001b[0m                                Traceback (most recent call last)",
            "\u001b[1;32m~\\AppData\\Local\\Temp/ipykernel_33784/2090436728.py\u001b[0m in \u001b[0;36m<module>\u001b[1;34m\u001b[0m\n\u001b[0;32m      1\u001b[0m \u001b[1;31m# convert numpy array to dict\u001b[0m\u001b[1;33m\u001b[0m\u001b[1;33m\u001b[0m\u001b[0m\n\u001b[1;32m----> 2\u001b[1;33m \u001b[0mdict\u001b[0m\u001b[1;33m(\u001b[0m\u001b[0ma\u001b[0m\u001b[1;33m)\u001b[0m\u001b[1;33m\u001b[0m\u001b[1;33m\u001b[0m\u001b[0m\n\u001b[0m",
            "\u001b[1;31mValueError\u001b[0m: dictionary update sequence element #0 has length 4; 2 is required"
          ]
        }
      ],
      "source": [
        "# convert numpy array to dict\n",
        "dict(a)"
      ]
    },
    {
      "cell_type": "code",
      "execution_count": null,
      "id": "69bf6b2b",
      "metadata": {
        "id": "69bf6b2b",
        "outputId": "31efeb8c-e0e2-4d80-d9aa-ea42d29c61a2"
      },
      "outputs": [
        {
          "data": {
            "text/plain": [
              "{0: array([0.99501191, 0.58341584, 0.42644985, 0.02453146]),\n",
              " 1: array([0.17168555, 0.31834066, 0.83391507, 0.88131115]),\n",
              " 2: array([0.48989816, 0.59542437, 0.19719592, 0.8464649 ])}"
            ]
          },
          "execution_count": 33,
          "metadata": {},
          "output_type": "execute_result"
        }
      ],
      "source": [
        "dict((enumerate(a)))"
      ]
    },
    {
      "cell_type": "code",
      "execution_count": null,
      "id": "21315342",
      "metadata": {
        "id": "21315342",
        "outputId": "e8a38df6-234c-4861-ccfe-02bb7bbedaa5"
      },
      "outputs": [
        {
          "data": {
            "text/plain": [
              "numpy.ndarray"
            ]
          },
          "execution_count": 15,
          "metadata": {},
          "output_type": "execute_result"
        }
      ],
      "source": [
        "# what is type of numpy array\n",
        "type(a) #ndarray : n dimensional array"
      ]
    },
    {
      "cell_type": "markdown",
      "id": "9f61137a",
      "metadata": {
        "id": "9f61137a"
      },
      "source": [
        "## Operations over numpy array"
      ]
    },
    {
      "cell_type": "code",
      "execution_count": null,
      "id": "d6682b22",
      "metadata": {
        "id": "d6682b22",
        "outputId": "9bd001f6-9baf-423d-c7f9-13055eba56df"
      },
      "outputs": [
        {
          "data": {
            "text/plain": [
              "array([[0.99501191, 0.58341584, 0.42644985, 0.02453146],\n",
              "       [0.17168555, 0.31834066, 0.83391507, 0.88131115],\n",
              "       [0.48989816, 0.59542437, 0.19719592, 0.8464649 ]])"
            ]
          },
          "execution_count": 16,
          "metadata": {},
          "output_type": "execute_result"
        }
      ],
      "source": [
        "a"
      ]
    },
    {
      "cell_type": "code",
      "execution_count": null,
      "id": "3ea43005",
      "metadata": {
        "id": "3ea43005",
        "outputId": "bdbb1423-6e83-458d-f292-df582fae2883"
      },
      "outputs": [
        {
          "data": {
            "text/plain": [
              "0.9950119110271972"
            ]
          },
          "execution_count": 17,
          "metadata": {},
          "output_type": "execute_result"
        }
      ],
      "source": [
        "np.max(a)"
      ]
    },
    {
      "cell_type": "code",
      "execution_count": null,
      "id": "e72ec190",
      "metadata": {
        "id": "e72ec190",
        "outputId": "70bc43fa-a734-4856-938c-34261e4b77f4"
      },
      "outputs": [
        {
          "data": {
            "text/plain": [
              "0.9950119110271972"
            ]
          },
          "execution_count": 18,
          "metadata": {},
          "output_type": "execute_result"
        }
      ],
      "source": [
        "a.max()"
      ]
    },
    {
      "cell_type": "code",
      "execution_count": null,
      "id": "8bbdb747",
      "metadata": {
        "id": "8bbdb747",
        "outputId": "edea0f37-68f7-488a-a1f1-a42d7af72a16"
      },
      "outputs": [
        {
          "data": {
            "text/plain": [
              "array([0.99501191, 0.88131115, 0.8464649 ])"
            ]
          },
          "execution_count": 20,
          "metadata": {},
          "output_type": "execute_result"
        }
      ],
      "source": [
        "# Rowwise max number: we have to give axis=1\n",
        "a.max(axis=1)"
      ]
    },
    {
      "cell_type": "code",
      "execution_count": null,
      "id": "1d5a9439",
      "metadata": {
        "id": "1d5a9439",
        "outputId": "bc788c25-680a-402d-f2b9-c70320967de9"
      },
      "outputs": [
        {
          "data": {
            "text/plain": [
              "array([[0.99501191, 0.58341584, 0.42644985, 0.02453146],\n",
              "       [0.17168555, 0.31834066, 0.83391507, 0.88131115],\n",
              "       [0.48989816, 0.59542437, 0.19719592, 0.8464649 ]])"
            ]
          },
          "execution_count": 21,
          "metadata": {},
          "output_type": "execute_result"
        }
      ],
      "source": [
        "a"
      ]
    },
    {
      "cell_type": "code",
      "execution_count": null,
      "id": "a2b9e5b6",
      "metadata": {
        "id": "a2b9e5b6",
        "outputId": "ec9089c8-e86b-4f48-dcab-931081a4a273"
      },
      "outputs": [
        {
          "data": {
            "text/plain": [
              "array([0.99501191, 0.59542437, 0.83391507, 0.88131115])"
            ]
          },
          "execution_count": 22,
          "metadata": {},
          "output_type": "execute_result"
        }
      ],
      "source": [
        "# Columnwise max number: we have to give axis=0\n",
        "a.max(axis=0)"
      ]
    },
    {
      "cell_type": "code",
      "execution_count": null,
      "id": "54682ab5",
      "metadata": {
        "id": "54682ab5",
        "outputId": "fee37ba9-ec42-48ae-db79-892a34d45990"
      },
      "outputs": [
        {
          "data": {
            "text/plain": [
              "array([[[0.49001779, 0.12615538],\n",
              "        [0.00158663, 0.93509861]],\n",
              "\n",
              "       [[0.1663223 , 0.89154994],\n",
              "        [0.95085959, 0.78975766]],\n",
              "\n",
              "       [[0.98244737, 0.73363984],\n",
              "        [0.62640792, 0.17970284]]])"
            ]
          },
          "execution_count": 23,
          "metadata": {},
          "output_type": "execute_result"
        }
      ],
      "source": [
        "b = np.random.random((3,2,2))\n",
        "b"
      ]
    },
    {
      "cell_type": "code",
      "execution_count": null,
      "id": "280533c9",
      "metadata": {
        "id": "280533c9",
        "outputId": "6ed20674-cd83-4454-8674-16081eaaa911"
      },
      "outputs": [
        {
          "data": {
            "text/plain": [
              "0.9824473678294152"
            ]
          },
          "execution_count": 24,
          "metadata": {},
          "output_type": "execute_result"
        }
      ],
      "source": [
        "b.max()"
      ]
    },
    {
      "cell_type": "code",
      "execution_count": null,
      "id": "4d0f2c82",
      "metadata": {
        "id": "4d0f2c82",
        "outputId": "c9e17dc7-3eff-4e08-80c2-610290933788"
      },
      "outputs": [
        {
          "data": {
            "text/plain": [
              "array([[0.49001779, 0.93509861],\n",
              "       [0.95085959, 0.89154994],\n",
              "       [0.98244737, 0.73363984]])"
            ]
          },
          "execution_count": 25,
          "metadata": {},
          "output_type": "execute_result"
        }
      ],
      "source": [
        "b.max(axis=1)"
      ]
    },
    {
      "cell_type": "code",
      "execution_count": null,
      "id": "44d875a3",
      "metadata": {
        "id": "44d875a3",
        "outputId": "7ccfd315-2a3f-4d15-abfb-0263aa13c0ce"
      },
      "outputs": [
        {
          "data": {
            "text/plain": [
              "array([[0.1663223 , 0.89154994],\n",
              "       [0.95085959, 0.78975766]])"
            ]
          },
          "execution_count": 27,
          "metadata": {},
          "output_type": "execute_result"
        }
      ],
      "source": [
        "b[1]"
      ]
    },
    {
      "cell_type": "code",
      "execution_count": null,
      "id": "cc76b4ff",
      "metadata": {
        "id": "cc76b4ff",
        "outputId": "929fc4f6-c5da-4cce-b3dd-b20b51760871"
      },
      "outputs": [
        {
          "data": {
            "text/plain": [
              "array([0.89154994, 0.95085959])"
            ]
          },
          "execution_count": 29,
          "metadata": {},
          "output_type": "execute_result"
        }
      ],
      "source": [
        "b[1].max(axis=1)"
      ]
    },
    {
      "cell_type": "raw",
      "id": "b27d3ebf",
      "metadata": {
        "id": "b27d3ebf"
      },
      "source": [
        "# Assignment:\n",
        "# np.min\n",
        "# np.mean\n",
        "# np.sum"
      ]
    },
    {
      "cell_type": "code",
      "execution_count": null,
      "id": "c954bd0e",
      "metadata": {
        "id": "c954bd0e",
        "outputId": "93b93571-f4d6-4514-ea6e-e1d53e6b76c9"
      },
      "outputs": [
        {
          "data": {
            "text/plain": [
              "array([[0.99501191, 0.58341584, 0.42644985, 0.02453146],\n",
              "       [0.17168555, 0.31834066, 0.83391507, 0.88131115],\n",
              "       [0.48989816, 0.59542437, 0.19719592, 0.8464649 ]])"
            ]
          },
          "execution_count": 34,
          "metadata": {},
          "output_type": "execute_result"
        }
      ],
      "source": [
        "a"
      ]
    },
    {
      "cell_type": "code",
      "execution_count": null,
      "id": "c55d2218",
      "metadata": {
        "id": "c55d2218",
        "outputId": "99aa6565-8be4-4454-bc76-6dfdc2782597"
      },
      "outputs": [
        {
          "data": {
            "text/plain": [
              "array([[100.99501191, 100.58341584, 100.42644985, 100.02453146],\n",
              "       [100.17168555, 100.31834066, 100.83391507, 100.88131115],\n",
              "       [100.48989816, 100.59542437, 100.19719592, 100.8464649 ]])"
            ]
          },
          "execution_count": 35,
          "metadata": {},
          "output_type": "execute_result"
        }
      ],
      "source": [
        "a + 100"
      ]
    },
    {
      "cell_type": "code",
      "execution_count": null,
      "id": "d16d5799",
      "metadata": {
        "id": "d16d5799",
        "outputId": "255afd26-1dd7-4d5a-a87a-6b2580dee5aa"
      },
      "outputs": [
        {
          "data": {
            "text/plain": [
              "array([[100.99501191, 100.58341584, 100.42644985, 100.02453146],\n",
              "       [100.17168555, 100.31834066, 100.83391507, 100.88131115],\n",
              "       [100.48989816, 100.59542437, 100.19719592, 100.8464649 ]])"
            ]
          },
          "execution_count": 36,
          "metadata": {},
          "output_type": "execute_result"
        }
      ],
      "source": [
        "np.add(a,100)"
      ]
    },
    {
      "cell_type": "code",
      "execution_count": null,
      "id": "41d2e701",
      "metadata": {
        "id": "41d2e701",
        "outputId": "4dfe0587-b9c2-426c-e84c-f36157b853b9"
      },
      "outputs": [
        {
          "data": {
            "text/plain": [
              "array([[0.99501191, 0.58341584, 0.42644985, 0.02453146],\n",
              "       [0.17168555, 0.31834066, 0.83391507, 0.88131115],\n",
              "       [0.48989816, 0.59542437, 0.19719592, 0.8464649 ]])"
            ]
          },
          "execution_count": 37,
          "metadata": {},
          "output_type": "execute_result"
        }
      ],
      "source": [
        "a"
      ]
    },
    {
      "cell_type": "code",
      "execution_count": null,
      "id": "64494485",
      "metadata": {
        "id": "64494485",
        "outputId": "32233ebd-5b2b-4626-bd24-2d2201b7d631"
      },
      "outputs": [
        {
          "data": {
            "text/plain": [
              "array([1, 2, 3, 4])"
            ]
          },
          "execution_count": 38,
          "metadata": {},
          "output_type": "execute_result"
        }
      ],
      "source": [
        "x =  np.array([1,2,3,4])\n",
        "x"
      ]
    },
    {
      "cell_type": "code",
      "execution_count": null,
      "id": "783292b8",
      "metadata": {
        "id": "783292b8",
        "outputId": "3469ce2c-3bef-457e-fcb5-bd2786fe0aaf"
      },
      "outputs": [
        {
          "data": {
            "text/plain": [
              "array([11, 12, 13, 14])"
            ]
          },
          "execution_count": 39,
          "metadata": {},
          "output_type": "execute_result"
        }
      ],
      "source": [
        "x+=10\n",
        "x"
      ]
    },
    {
      "cell_type": "code",
      "execution_count": null,
      "id": "28d253ab",
      "metadata": {
        "id": "28d253ab",
        "outputId": "74bdcdcd-808b-4b12-ab68-d3119f2e5a1b"
      },
      "outputs": [
        {
          "ename": "TypeError",
          "evalue": "'int' object is not iterable",
          "output_type": "error",
          "traceback": [
            "\u001b[1;31m---------------------------------------------------------------------------\u001b[0m",
            "\u001b[1;31mTypeError\u001b[0m                                 Traceback (most recent call last)",
            "\u001b[1;32m~\\AppData\\Local\\Temp/ipykernel_33784/2423807436.py\u001b[0m in \u001b[0;36m<module>\u001b[1;34m\u001b[0m\n\u001b[0;32m      1\u001b[0m \u001b[1;31m# use list now\u001b[0m\u001b[1;33m\u001b[0m\u001b[1;33m\u001b[0m\u001b[0m\n\u001b[0;32m      2\u001b[0m \u001b[0my\u001b[0m \u001b[1;33m=\u001b[0m \u001b[1;33m[\u001b[0m\u001b[1;36m1\u001b[0m\u001b[1;33m,\u001b[0m\u001b[1;36m2\u001b[0m\u001b[1;33m,\u001b[0m\u001b[1;36m3\u001b[0m\u001b[1;33m,\u001b[0m\u001b[1;36m4\u001b[0m\u001b[1;33m]\u001b[0m\u001b[1;33m\u001b[0m\u001b[1;33m\u001b[0m\u001b[0m\n\u001b[1;32m----> 3\u001b[1;33m \u001b[0my\u001b[0m \u001b[1;33m+=\u001b[0m\u001b[1;36m10\u001b[0m\u001b[1;33m\u001b[0m\u001b[1;33m\u001b[0m\u001b[0m\n\u001b[0m\u001b[0;32m      4\u001b[0m \u001b[0my\u001b[0m\u001b[1;33m\u001b[0m\u001b[1;33m\u001b[0m\u001b[0m\n",
            "\u001b[1;31mTypeError\u001b[0m: 'int' object is not iterable"
          ]
        }
      ],
      "source": [
        "# use list now\n",
        "y = [1,2,3,4]\n",
        "y +=10\n",
        "y"
      ]
    },
    {
      "cell_type": "raw",
      "id": "bbc3fd14",
      "metadata": {
        "id": "bbc3fd14"
      },
      "source": [
        "#Q. numpy array vs list"
      ]
    },
    {
      "cell_type": "code",
      "execution_count": null,
      "id": "0979b569",
      "metadata": {
        "id": "0979b569",
        "outputId": "54652bab-8751-4fad-9f7c-8e8fde7ee921"
      },
      "outputs": [
        {
          "data": {
            "text/plain": [
              "array([[0.99501191, 0.58341584, 0.42644985, 0.02453146],\n",
              "       [0.17168555, 0.31834066, 0.83391507, 0.88131115],\n",
              "       [0.48989816, 0.59542437, 0.19719592, 0.8464649 ]])"
            ]
          },
          "execution_count": 41,
          "metadata": {},
          "output_type": "execute_result"
        }
      ],
      "source": [
        "a"
      ]
    },
    {
      "cell_type": "code",
      "execution_count": null,
      "id": "792d5ddb",
      "metadata": {
        "id": "792d5ddb",
        "outputId": "591623c7-88bf-42c2-ce2b-d65cd61b7864"
      },
      "outputs": [
        {
          "data": {
            "text/plain": [
              "array([[100.99501191, 100.58341584, 100.42644985, 100.02453146],\n",
              "       [100.17168555, 100.31834066, 100.83391507, 100.88131115],\n",
              "       [100.48989816, 100.59542437, 100.19719592, 100.8464649 ]])"
            ]
          },
          "execution_count": 43,
          "metadata": {},
          "output_type": "execute_result"
        }
      ],
      "source": [
        "np.add(a,100)"
      ]
    },
    {
      "cell_type": "code",
      "execution_count": null,
      "id": "b318c450",
      "metadata": {
        "id": "b318c450",
        "outputId": "44a80778-a40b-48a0-a990-f5c230db0573"
      },
      "outputs": [
        {
          "data": {
            "text/plain": [
              "array([9.95011911e-01, 5.83415835e-01, 4.26449845e-01, 2.45314600e-02,\n",
              "       1.71685547e-01, 3.18340660e-01, 8.33915066e-01, 8.81311149e-01,\n",
              "       4.89898158e-01, 5.95424374e-01, 1.97195917e-01, 8.46464903e-01,\n",
              "       1.00000000e+02])"
            ]
          },
          "execution_count": 44,
          "metadata": {},
          "output_type": "execute_result"
        }
      ],
      "source": [
        "np.append(a,100)"
      ]
    },
    {
      "cell_type": "code",
      "execution_count": null,
      "id": "36e81e93",
      "metadata": {
        "id": "36e81e93",
        "outputId": "b386161f-9285-4ae2-e135-dfbb897b84cc"
      },
      "outputs": [
        {
          "data": {
            "text/plain": [
              "array([ 11,  12,  13,  14, 100])"
            ]
          },
          "execution_count": 45,
          "metadata": {},
          "output_type": "execute_result"
        }
      ],
      "source": [
        "np.append(x,100) # add element at the end"
      ]
    },
    {
      "cell_type": "code",
      "execution_count": null,
      "id": "3fc57a88",
      "metadata": {
        "id": "3fc57a88",
        "outputId": "07cb1c23-9ac0-4921-c082-b5bae9e612c0"
      },
      "outputs": [
        {
          "data": {
            "text/plain": [
              "array([[0.99501191, 0.58341584, 0.42644985, 0.02453146],\n",
              "       [0.17168555, 0.31834066, 0.83391507, 0.88131115],\n",
              "       [0.48989816, 0.59542437, 0.19719592, 0.8464649 ]])"
            ]
          },
          "execution_count": 46,
          "metadata": {},
          "output_type": "execute_result"
        }
      ],
      "source": [
        "a"
      ]
    },
    {
      "cell_type": "code",
      "execution_count": null,
      "id": "7894a018",
      "metadata": {
        "id": "7894a018",
        "outputId": "d6bd033a-7c71-4630-b16a-2495fe96408e"
      },
      "outputs": [
        {
          "data": {
            "text/plain": [
              "array([[ 0.99501191,  0.58341584,  0.42644985,  0.02453146],\n",
              "       [ 0.17168555,  0.31834066,  0.83391507,  0.88131115],\n",
              "       [ 0.48989816,  0.59542437,  0.19719592,  0.8464649 ],\n",
              "       [-1.        , -1.        , -1.        , -1.        ]])"
            ]
          },
          "execution_count": 51,
          "metadata": {},
          "output_type": "execute_result"
        }
      ],
      "source": [
        "# add -1 in each column\n",
        "# add -1 row\n",
        "np.append(a,[[-1,-1,-1,-1]],axis=0)"
      ]
    },
    {
      "cell_type": "code",
      "execution_count": null,
      "id": "2874a86b",
      "metadata": {
        "id": "2874a86b"
      },
      "outputs": [],
      "source": [
        "# Assignment: Add -2 in each row"
      ]
    },
    {
      "cell_type": "code",
      "execution_count": null,
      "id": "aba4ddd6",
      "metadata": {
        "id": "aba4ddd6",
        "outputId": "59f18bc3-9e2e-47de-8035-9a4f84bef5a8"
      },
      "outputs": [
        {
          "data": {
            "text/plain": [
              "array([0.58341584, 0.42644985, 0.02453146, 0.17168555, 0.31834066,\n",
              "       0.83391507, 0.88131115, 0.48989816, 0.59542437, 0.19719592,\n",
              "       0.8464649 ])"
            ]
          },
          "execution_count": 53,
          "metadata": {},
          "output_type": "execute_result"
        }
      ],
      "source": [
        "# delete(arr,index)\n",
        "np.delete(a,0)"
      ]
    },
    {
      "cell_type": "code",
      "execution_count": null,
      "id": "9b28a68b",
      "metadata": {
        "id": "9b28a68b",
        "outputId": "27d8eb5e-74e5-4fce-b44c-1692fc62ab5c"
      },
      "outputs": [
        {
          "data": {
            "text/plain": [
              "array([[0.99501191, 0.58341584, 0.42644985, 0.02453146],\n",
              "       [0.17168555, 0.31834066, 0.83391507, 0.88131115],\n",
              "       [0.48989816, 0.59542437, 0.19719592, 0.8464649 ]])"
            ]
          },
          "execution_count": 54,
          "metadata": {},
          "output_type": "execute_result"
        }
      ],
      "source": [
        "a"
      ]
    },
    {
      "cell_type": "code",
      "execution_count": null,
      "id": "cc56788c",
      "metadata": {
        "id": "cc56788c",
        "outputId": "883eb94f-16d2-4694-eca7-deeba6dc8589"
      },
      "outputs": [
        {
          "data": {
            "text/plain": [
              "array([[0.99501191, 0.58341584, 0.42644985, 0.02453146],\n",
              "       [0.48989816, 0.59542437, 0.19719592, 0.8464649 ]])"
            ]
          },
          "execution_count": 55,
          "metadata": {},
          "output_type": "execute_result"
        }
      ],
      "source": [
        "np.delete(a,1,axis=0) # deleting middle row"
      ]
    },
    {
      "cell_type": "code",
      "execution_count": null,
      "id": "6d54edae",
      "metadata": {
        "id": "6d54edae",
        "outputId": "cf7c482f-db9c-407a-b358-235edb4a4b82"
      },
      "outputs": [
        {
          "data": {
            "text/plain": [
              "array([[0.99501191, 0.58341584, 0.42644985],\n",
              "       [0.17168555, 0.31834066, 0.83391507],\n",
              "       [0.48989816, 0.59542437, 0.19719592]])"
            ]
          },
          "execution_count": 58,
          "metadata": {},
          "output_type": "execute_result"
        }
      ],
      "source": [
        "np.delete(a,-1,axis=1) # delete last column"
      ]
    },
    {
      "cell_type": "code",
      "execution_count": null,
      "id": "a807582d",
      "metadata": {
        "id": "a807582d",
        "outputId": "6e81c499-d67d-459b-8a38-8665da54b03d"
      },
      "outputs": [
        {
          "data": {
            "text/plain": [
              "array([[0.99501191, 0.58341584, 0.42644985, 0.02453146],\n",
              "       [0.17168555, 0.31834066, 0.83391507, 0.88131115],\n",
              "       [0.48989816, 0.59542437, 0.19719592, 0.8464649 ]])"
            ]
          },
          "execution_count": 57,
          "metadata": {},
          "output_type": "execute_result"
        }
      ],
      "source": [
        "a"
      ]
    },
    {
      "cell_type": "markdown",
      "id": "183abc12",
      "metadata": {
        "id": "183abc12"
      },
      "source": [
        "## Selection over numpy array"
      ]
    },
    {
      "cell_type": "code",
      "execution_count": null,
      "id": "fc2f085d",
      "metadata": {
        "id": "fc2f085d",
        "outputId": "eb8c0d22-1753-4b48-ec41-b875de8c03ba"
      },
      "outputs": [
        {
          "data": {
            "text/plain": [
              "array([[ 5,  4,  8,  8, 10],\n",
              "       [ 1,  5,  8, 10,  8],\n",
              "       [ 1,  2,  6,  7,  4],\n",
              "       [ 6,  7,  2,  3,  7]])"
            ]
          },
          "execution_count": 59,
          "metadata": {},
          "output_type": "execute_result"
        }
      ],
      "source": [
        "z = np.random.randint(1,11,20).reshape(4,5)\n",
        "z"
      ]
    },
    {
      "cell_type": "code",
      "execution_count": null,
      "id": "128468d2",
      "metadata": {
        "id": "128468d2",
        "outputId": "4733ae54-c242-41bc-ef26-8fc6ab564b5f"
      },
      "outputs": [
        {
          "data": {
            "text/plain": [
              "array([[ 5, 10,  4,  9,  6],\n",
              "       [ 4,  8,  8,  1,  9],\n",
              "       [ 3,  3,  7,  7,  6],\n",
              "       [ 4,  9,  8,  6, 10]])"
            ]
          },
          "execution_count": 61,
          "metadata": {},
          "output_type": "execute_result"
        }
      ],
      "source": [
        "np.random.randint(1,11,20).reshape(4,5)"
      ]
    },
    {
      "cell_type": "code",
      "execution_count": null,
      "id": "f05c239e",
      "metadata": {
        "id": "f05c239e",
        "outputId": "c6171696-1dc0-42b2-bb59-f9aafdb81623"
      },
      "outputs": [
        {
          "data": {
            "text/plain": [
              "array([[ 5,  4,  8,  8, 10],\n",
              "       [ 1,  5,  8, 10,  8],\n",
              "       [ 1,  2,  6,  7,  4],\n",
              "       [ 6,  7,  2,  3,  7]])"
            ]
          },
          "execution_count": 62,
          "metadata": {},
          "output_type": "execute_result"
        }
      ],
      "source": [
        "z"
      ]
    },
    {
      "cell_type": "code",
      "execution_count": null,
      "id": "8950e7b9",
      "metadata": {
        "id": "8950e7b9",
        "outputId": "2df6a4fa-68e9-490e-9c5a-6667a98ec662"
      },
      "outputs": [
        {
          "data": {
            "text/plain": [
              "array([[False, False,  True,  True,  True],\n",
              "       [False, False,  True,  True,  True],\n",
              "       [False, False,  True,  True, False],\n",
              "       [ True,  True, False, False,  True]])"
            ]
          },
          "execution_count": 63,
          "metadata": {},
          "output_type": "execute_result"
        }
      ],
      "source": [
        "# select numbers > 5\n",
        "z > 5  #mapping is element by element"
      ]
    },
    {
      "cell_type": "code",
      "execution_count": null,
      "id": "0ce98374",
      "metadata": {
        "id": "0ce98374",
        "outputId": "488da5a3-83de-4a43-d845-378c757af98d"
      },
      "outputs": [
        {
          "data": {
            "text/plain": [
              "array([ 8,  8, 10,  8, 10,  8,  6,  7,  6,  7,  7])"
            ]
          },
          "execution_count": 64,
          "metadata": {},
          "output_type": "execute_result"
        }
      ],
      "source": [
        "# numpy array supports boolean indexing\n",
        "z[z>5] # this will return actual value for whome result is True"
      ]
    },
    {
      "cell_type": "code",
      "execution_count": null,
      "id": "27a26daa",
      "metadata": {
        "id": "27a26daa"
      },
      "outputs": [],
      "source": [
        "# convert num >5 to 0\n",
        "z[z>5] = 0"
      ]
    },
    {
      "cell_type": "code",
      "execution_count": null,
      "id": "60dd0733",
      "metadata": {
        "id": "60dd0733",
        "outputId": "ff491fd0-4f7e-4a3b-c93a-ef02853f3e8f"
      },
      "outputs": [
        {
          "data": {
            "text/plain": [
              "array([[5, 4, 0, 0, 0],\n",
              "       [1, 5, 0, 0, 0],\n",
              "       [1, 2, 0, 0, 4],\n",
              "       [0, 0, 2, 3, 0]])"
            ]
          },
          "execution_count": 66,
          "metadata": {},
          "output_type": "execute_result"
        }
      ],
      "source": [
        "z"
      ]
    },
    {
      "cell_type": "code",
      "execution_count": null,
      "id": "e80e0beb",
      "metadata": {
        "id": "e80e0beb"
      },
      "outputs": [],
      "source": []
    }
  ],
  "metadata": {
    "kernelspec": {
      "display_name": "Python 3 (ipykernel)",
      "language": "python",
      "name": "python3"
    },
    "language_info": {
      "codemirror_mode": {
        "name": "ipython",
        "version": 3
      },
      "file_extension": ".py",
      "mimetype": "text/x-python",
      "name": "python",
      "nbconvert_exporter": "python",
      "pygments_lexer": "ipython3",
      "version": "3.9.7"
    },
    "colab": {
      "provenance": []
    }
  },
  "nbformat": 4,
  "nbformat_minor": 5
}